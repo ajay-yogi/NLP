{
  "nbformat": 4,
  "nbformat_minor": 0,
  "metadata": {
    "colab": {
      "provenance": []
    },
    "kernelspec": {
      "name": "python3",
      "display_name": "Python 3"
    },
    "language_info": {
      "name": "python"
    }
  },
  "cells": [
    {
      "cell_type": "markdown",
      "source": [
        "Debit: Create atleast 5 bucket: You may select any of these - Online food, Online Shopping, Broker (Zerodha transactions),  Subscriptions & Recharges, Utility, online credit aggregator, fund transfers, cash withdrawal, and Misc. \n",
        "\n",
        "Credit: Create another bucket for credits"
      ],
      "metadata": {
        "id": "zOnExN7xxpKU"
      }
    },
    {
      "cell_type": "markdown",
      "source": [
        "#*SMS Categorization*#"
      ],
      "metadata": {
        "id": "FrkY4jp_xxNu"
      }
    },
    {
      "cell_type": "code",
      "source": [
        "import pandas as pd\n",
        "import numpy as np\n",
        "import regex as re\n"
      ],
      "metadata": {
        "id": "FleIW7pbSdv2"
      },
      "execution_count": 5,
      "outputs": []
    },
    {
      "cell_type": "code",
      "source": [
        "!pip install xlrd==1.2.0\n",
        "!pip install -q tf-models-official==2.7.0\n",
        "\n"
      ],
      "metadata": {
        "colab": {
          "base_uri": "https://localhost:8080/"
        },
        "id": "Pm3VMQq5Shb0",
        "outputId": "b5c87376-f668-40f5-839c-4e7fee8d9576"
      },
      "execution_count": 6,
      "outputs": [
        {
          "output_type": "stream",
          "name": "stdout",
          "text": [
            "Looking in indexes: https://pypi.org/simple, https://us-python.pkg.dev/colab-wheels/public/simple/\n",
            "Collecting xlrd==1.2.0\n",
            "  Downloading xlrd-1.2.0-py2.py3-none-any.whl (103 kB)\n",
            "\u001b[K     |████████████████████████████████| 103 kB 5.2 MB/s \n",
            "\u001b[?25hInstalling collected packages: xlrd\n",
            "  Attempting uninstall: xlrd\n",
            "    Found existing installation: xlrd 1.1.0\n",
            "    Uninstalling xlrd-1.1.0:\n",
            "      Successfully uninstalled xlrd-1.1.0\n",
            "Successfully installed xlrd-1.2.0\n",
            "\u001b[K     |████████████████████████████████| 1.8 MB 4.9 MB/s \n",
            "\u001b[K     |████████████████████████████████| 238 kB 53.6 MB/s \n",
            "\u001b[K     |████████████████████████████████| 1.3 MB 30.9 MB/s \n",
            "\u001b[K     |████████████████████████████████| 1.1 MB 49.3 MB/s \n",
            "\u001b[K     |████████████████████████████████| 43 kB 1.2 MB/s \n",
            "\u001b[K     |████████████████████████████████| 116 kB 46.8 MB/s \n",
            "\u001b[K     |████████████████████████████████| 352 kB 46.9 MB/s \n",
            "\u001b[K     |████████████████████████████████| 99 kB 6.5 MB/s \n",
            "\u001b[?25h  Building wheel for py-cpuinfo (setup.py) ... \u001b[?25l\u001b[?25hdone\n",
            "  Building wheel for seqeval (setup.py) ... \u001b[?25l\u001b[?25hdone\n"
          ]
        }
      ]
    },
    {
      "cell_type": "code",
      "source": [
        "data = pd.read_excel(r'input_data.xls')\n",
        "data = data[5:230]"
      ],
      "metadata": {
        "id": "FaCnjagbSjYi"
      },
      "execution_count": 7,
      "outputs": []
    },
    {
      "cell_type": "code",
      "source": [
        "data.columns"
      ],
      "metadata": {
        "colab": {
          "base_uri": "https://localhost:8080/"
        },
        "id": "gAszaa5kUFay",
        "outputId": "fc0f1eb2-47ca-4a3d-a9aa-0a6c2c1e103a"
      },
      "execution_count": 8,
      "outputs": [
        {
          "output_type": "execute_result",
          "data": {
            "text/plain": [
              "Index(['Unnamed: 0',\n",
              "       'Debit: Create atleast 5 bucket: You may select any of these - Online food, Online Shopping, Broker (Zerodha transactions),  Subscriptions & Recharges, Utility, online credit aggregator, fund transfers, cash withdrawal, and Misc. ',\n",
              "       'Unnamed: 2', 'Unnamed: 3', 'Unnamed: 4'],\n",
              "      dtype='object')"
            ]
          },
          "metadata": {},
          "execution_count": 8
        }
      ]
    },
    {
      "cell_type": "code",
      "source": [
        "data.rename(columns={'Unnamed: 0': 'Date of Transaction',\n",
        "                     'Debit: Create atleast 5 bucket: You may select any of these - Online food, Online Shopping, Broker (Zerodha transactions),  Subscriptions & Recharges, Utility, online credit aggregator, fund transfers, cash withdrawal, and Misc. ': 'Transaction Summary',\n",
        "                     'Unnamed: 2': 'Date2',\n",
        "                     'Unnamed: 3': 'Debit Amount',\n",
        "                     'Unnamed: 4': 'Credit Amount'}, inplace=True)"
      ],
      "metadata": {
        "id": "RYyfBNbTUHbI"
      },
      "execution_count": 9,
      "outputs": []
    },
    {
      "cell_type": "code",
      "source": [
        "data.drop('Date2', axis = 1)\n",
        "data.reset_index(inplace = True, drop = True)"
      ],
      "metadata": {
        "id": "y9nBxedSUKL7"
      },
      "execution_count": 10,
      "outputs": []
    },
    {
      "cell_type": "code",
      "source": [
        "data.head()"
      ],
      "metadata": {
        "colab": {
          "base_uri": "https://localhost:8080/",
          "height": 206
        },
        "id": "WEiCH9T6UM21",
        "outputId": "17ffcfb6-8e97-439d-e304-c7e5d8d42975"
      },
      "execution_count": 11,
      "outputs": [
        {
          "output_type": "execute_result",
          "data": {
            "text/plain": [
              "  Date of Transaction                                Transaction Summary  \\\n",
              "0            01/04/21  UPI-K RAJESH-RAJESHDPMINDIA@OKICICI-ICIC000000...   \n",
              "1            01/04/21  NEFT DR-PUNB0668200-ROHAN-NETBANK, MUM-N091211...   \n",
              "2            01/04/21  UPI-K RAJESH-RAJESHDPMINDIA@OKICICI-ICIC000000...   \n",
              "3            01/04/21  UPI-ZOMATO-ZOMATO-ORDER@PAYTM-PYTM0123456-1091...   \n",
              "4            02/04/21  UPI-MAHENDRAN K M-SRIMURUGANSUPERMARKET1969@OK...   \n",
              "\n",
              "      Date2 Debit Amount Credit Amount  \n",
              "0  01/04/21            1           NaN  \n",
              "1  01/04/21        17816           NaN  \n",
              "2  01/04/21        24999           NaN  \n",
              "3  01/04/21       111.18           NaN  \n",
              "4  02/04/21           40           NaN  "
            ],
            "text/html": [
              "\n",
              "  <div id=\"df-b7314344-2485-42ff-9a0b-77f22d78239f\">\n",
              "    <div class=\"colab-df-container\">\n",
              "      <div>\n",
              "<style scoped>\n",
              "    .dataframe tbody tr th:only-of-type {\n",
              "        vertical-align: middle;\n",
              "    }\n",
              "\n",
              "    .dataframe tbody tr th {\n",
              "        vertical-align: top;\n",
              "    }\n",
              "\n",
              "    .dataframe thead th {\n",
              "        text-align: right;\n",
              "    }\n",
              "</style>\n",
              "<table border=\"1\" class=\"dataframe\">\n",
              "  <thead>\n",
              "    <tr style=\"text-align: right;\">\n",
              "      <th></th>\n",
              "      <th>Date of Transaction</th>\n",
              "      <th>Transaction Summary</th>\n",
              "      <th>Date2</th>\n",
              "      <th>Debit Amount</th>\n",
              "      <th>Credit Amount</th>\n",
              "    </tr>\n",
              "  </thead>\n",
              "  <tbody>\n",
              "    <tr>\n",
              "      <th>0</th>\n",
              "      <td>01/04/21</td>\n",
              "      <td>UPI-K RAJESH-RAJESHDPMINDIA@OKICICI-ICIC000000...</td>\n",
              "      <td>01/04/21</td>\n",
              "      <td>1</td>\n",
              "      <td>NaN</td>\n",
              "    </tr>\n",
              "    <tr>\n",
              "      <th>1</th>\n",
              "      <td>01/04/21</td>\n",
              "      <td>NEFT DR-PUNB0668200-ROHAN-NETBANK, MUM-N091211...</td>\n",
              "      <td>01/04/21</td>\n",
              "      <td>17816</td>\n",
              "      <td>NaN</td>\n",
              "    </tr>\n",
              "    <tr>\n",
              "      <th>2</th>\n",
              "      <td>01/04/21</td>\n",
              "      <td>UPI-K RAJESH-RAJESHDPMINDIA@OKICICI-ICIC000000...</td>\n",
              "      <td>01/04/21</td>\n",
              "      <td>24999</td>\n",
              "      <td>NaN</td>\n",
              "    </tr>\n",
              "    <tr>\n",
              "      <th>3</th>\n",
              "      <td>01/04/21</td>\n",
              "      <td>UPI-ZOMATO-ZOMATO-ORDER@PAYTM-PYTM0123456-1091...</td>\n",
              "      <td>01/04/21</td>\n",
              "      <td>111.18</td>\n",
              "      <td>NaN</td>\n",
              "    </tr>\n",
              "    <tr>\n",
              "      <th>4</th>\n",
              "      <td>02/04/21</td>\n",
              "      <td>UPI-MAHENDRAN K M-SRIMURUGANSUPERMARKET1969@OK...</td>\n",
              "      <td>02/04/21</td>\n",
              "      <td>40</td>\n",
              "      <td>NaN</td>\n",
              "    </tr>\n",
              "  </tbody>\n",
              "</table>\n",
              "</div>\n",
              "      <button class=\"colab-df-convert\" onclick=\"convertToInteractive('df-b7314344-2485-42ff-9a0b-77f22d78239f')\"\n",
              "              title=\"Convert this dataframe to an interactive table.\"\n",
              "              style=\"display:none;\">\n",
              "        \n",
              "  <svg xmlns=\"http://www.w3.org/2000/svg\" height=\"24px\"viewBox=\"0 0 24 24\"\n",
              "       width=\"24px\">\n",
              "    <path d=\"M0 0h24v24H0V0z\" fill=\"none\"/>\n",
              "    <path d=\"M18.56 5.44l.94 2.06.94-2.06 2.06-.94-2.06-.94-.94-2.06-.94 2.06-2.06.94zm-11 1L8.5 8.5l.94-2.06 2.06-.94-2.06-.94L8.5 2.5l-.94 2.06-2.06.94zm10 10l.94 2.06.94-2.06 2.06-.94-2.06-.94-.94-2.06-.94 2.06-2.06.94z\"/><path d=\"M17.41 7.96l-1.37-1.37c-.4-.4-.92-.59-1.43-.59-.52 0-1.04.2-1.43.59L10.3 9.45l-7.72 7.72c-.78.78-.78 2.05 0 2.83L4 21.41c.39.39.9.59 1.41.59.51 0 1.02-.2 1.41-.59l7.78-7.78 2.81-2.81c.8-.78.8-2.07 0-2.86zM5.41 20L4 18.59l7.72-7.72 1.47 1.35L5.41 20z\"/>\n",
              "  </svg>\n",
              "      </button>\n",
              "      \n",
              "  <style>\n",
              "    .colab-df-container {\n",
              "      display:flex;\n",
              "      flex-wrap:wrap;\n",
              "      gap: 12px;\n",
              "    }\n",
              "\n",
              "    .colab-df-convert {\n",
              "      background-color: #E8F0FE;\n",
              "      border: none;\n",
              "      border-radius: 50%;\n",
              "      cursor: pointer;\n",
              "      display: none;\n",
              "      fill: #1967D2;\n",
              "      height: 32px;\n",
              "      padding: 0 0 0 0;\n",
              "      width: 32px;\n",
              "    }\n",
              "\n",
              "    .colab-df-convert:hover {\n",
              "      background-color: #E2EBFA;\n",
              "      box-shadow: 0px 1px 2px rgba(60, 64, 67, 0.3), 0px 1px 3px 1px rgba(60, 64, 67, 0.15);\n",
              "      fill: #174EA6;\n",
              "    }\n",
              "\n",
              "    [theme=dark] .colab-df-convert {\n",
              "      background-color: #3B4455;\n",
              "      fill: #D2E3FC;\n",
              "    }\n",
              "\n",
              "    [theme=dark] .colab-df-convert:hover {\n",
              "      background-color: #434B5C;\n",
              "      box-shadow: 0px 1px 3px 1px rgba(0, 0, 0, 0.15);\n",
              "      filter: drop-shadow(0px 1px 2px rgba(0, 0, 0, 0.3));\n",
              "      fill: #FFFFFF;\n",
              "    }\n",
              "  </style>\n",
              "\n",
              "      <script>\n",
              "        const buttonEl =\n",
              "          document.querySelector('#df-b7314344-2485-42ff-9a0b-77f22d78239f button.colab-df-convert');\n",
              "        buttonEl.style.display =\n",
              "          google.colab.kernel.accessAllowed ? 'block' : 'none';\n",
              "\n",
              "        async function convertToInteractive(key) {\n",
              "          const element = document.querySelector('#df-b7314344-2485-42ff-9a0b-77f22d78239f');\n",
              "          const dataTable =\n",
              "            await google.colab.kernel.invokeFunction('convertToInteractive',\n",
              "                                                     [key], {});\n",
              "          if (!dataTable) return;\n",
              "\n",
              "          const docLinkHtml = 'Like what you see? Visit the ' +\n",
              "            '<a target=\"_blank\" href=https://colab.research.google.com/notebooks/data_table.ipynb>data table notebook</a>'\n",
              "            + ' to learn more about interactive tables.';\n",
              "          element.innerHTML = '';\n",
              "          dataTable['output_type'] = 'display_data';\n",
              "          await google.colab.output.renderOutput(dataTable, element);\n",
              "          const docLink = document.createElement('div');\n",
              "          docLink.innerHTML = docLinkHtml;\n",
              "          element.appendChild(docLink);\n",
              "        }\n",
              "      </script>\n",
              "    </div>\n",
              "  </div>\n",
              "  "
            ]
          },
          "metadata": {},
          "execution_count": 11
        }
      ]
    },
    {
      "cell_type": "code",
      "source": [
        "for i in range(len(data)):\n",
        "    print(data['Transaction Summary'][i])"
      ],
      "metadata": {
        "colab": {
          "base_uri": "https://localhost:8080/"
        },
        "id": "hEbwJXHPURZJ",
        "outputId": "784c4793-0c98-441f-f83c-bfb95026ef8e"
      },
      "execution_count": 12,
      "outputs": [
        {
          "output_type": "stream",
          "name": "stdout",
          "text": [
            "UPI-K RAJESH-RAJESHDPMINDIA@OKICICI-ICIC0000009-109112901059-UPI\n",
            "NEFT DR-PUNB0668200-ROHAN-NETBANK, MUM-N091211459394676-FUNDS\n",
            "UPI-K RAJESH-RAJESHDPMINDIA@OKICICI-ICIC0000009-109117511967-UPI\n",
            "UPI-ZOMATO-ZOMATO-ORDER@PAYTM-PYTM0123456-109117628409-ZOMATO PAYMENT\n",
            "UPI-MAHENDRAN K M-SRIMURUGANSUPERMARKET1969@OKHDFCBANK-HDFC0001864-109218533308-UPI\n",
            "UPI-ZOMATO-ZOMATO-ORDER@PAYTM-PYTM0123456-109222438461-ZOMATO PAYMENT\n",
            "UPI-MR SHAKSHI NAHAR-SHAKSHI.NAHAR2001@OKHDFCBANK-IDIB000G079-109317778469-UPI\n",
            "UPI-ZOMATO-ZOMATO@HDFCBANK-HDFC0000499-109411059391-ZOMATOONLINEORDER\n",
            "UPI-GOOGLEPAY-GOOG-PAYMENT@OKAXIS-UTIB0000553-109416885748-UPI\n",
            "UPI-ZOMATO-ZOMATO-ORDER@PAYTM-PYTM0123456-109420825788-ZOMATO PAYMENT\n",
            "UPI-RAZORPAYZOMATO-ZOMATOINDIA@ICICI-ICIC0000001-109420888945-ZOMATOONLINEORDER\n",
            "UPI-GOOGLEPAY-GOOG-PAYMENT@OKAXIS-UTIB0000553-109504159090-UPI\n",
            "UPI-ZERODHA-ZERODHA.RAZORPAY@ICICI-ICIC0000002-109511561213-511005493637809 ZE\n",
            "UPI-KAPOOR CHAND-AMZN0004251406@APL-PUNB0673800-109621297890-UPI\n",
            "UPI-ZOMATO-ZOMATO-ORDER@PAYTM-PYTM0123456-109707705376-ZOMATO PAYMENT\n",
            "UPI-MR SHAKSHI NAHAR-SHAKSHI.NAHAR2001@OKHDFCBANK-IDIB000G079-109718343160-UPI\n",
            "UPI-ZERODHA-ZERODHA.RAZORPAY@ICICI-ICIC0000002-109810027545-ZERODHA 1055939449\n",
            "UPI-RAZORPAYZOMATO-ZOMATOINDIA@ICICI-ICIC0000001-109818372806-ZOMATOONLINEORDER\n",
            "UPI-AMITH KUMAR R-AMITHSHREEMOBILES@OKAXIS-FDRL0001282-109819045664-UPI\n",
            "POS 435584XXXXXX8149 T NAGAR THIRUMAL\n",
            "ACH C- IOCL-00000000000009930068\n",
            "UPI-ZERODHA BROKING LTD-ZERODHABROKING@HDFCBANK-HDFC0000523-109915922589-KITE DEPOSIT 30733\n",
            "UPI-K  SURYA-SURYAK23467-1@OKAXIS-IOBA0002279-109915319003-UPI\n",
            "UPI-MAHENDRAN K M-SRIMURUGANSUPERMARKET1969@OKHDFCBANK-HDFC0001864-109917166593-UPI\n",
            "UPI-ZOMATO-ZOMATO-ORDER@PAYTM-PYTM0123456-110021411504-ZOMATO PAYMENT\n",
            "UPI-MR JOSEPH KULASEKARA-JOSEPHKULASEKARAN27@OKAXIS-IDIB000M206-110112699305-UPI\n",
            "UPI-ZOMATO-ZOMATO-ORDER@PAYTM-PYTM0123456-110113385603-ZOMATO PAYMENT\n",
            "UPI-RAJARAM R-Q93261994@YBL-BKID0008009-110219095820-UPI\n",
            "UPI-DECATHLON-DECATHLON@YBL-YESB0YBLUPI-110221472779-PAYMENT FOR 701442\n",
            "UPI-ZOMATO-ZOMATO-ORDER@PAYTM-PYTM0123456-110316049060-ZOMATO PAYMENT\n",
            "UPI-ZOMATO-ZOMATO-ORDER@PAYTM-PYTM0123456-110318233686-ZOMATO PAYMENT\n",
            "UPI-ZOMATO-ZOMATO-ORDER@PAYTM-PYTM0123456-110319123728-ZOMATO PAYMENT\n",
            "UPI-ANIRUDH M-ANIRUDH.MRL@OKHDFCBANK-HDFC0001871-110323157587-UPI\n",
            "UPI-AKSHAY R-AKSHAY.RADHAVASAN@OKHDFCBANK-HDFC0009095-110323162539-UPI\n",
            "UPI-MADHAV  GOPAL-MADHAV0908@OKSBI-SBIN0001055-110323046636-MADHAV AND VICHI\n",
            "UPI-TURF TOWN SPORTING P-EZE0020069@CUB-CIUB0000339-110323166583-UPI\n",
            "UPI-ADITHYA T-BUNTY.95ADITHYA@OKICICI-KVBL0001213-110400364637-TIKI TAKA\n",
            "UPI-ZOMATO-ZOMATO-ORDER@PAYTM-PYTM0123456-110415565706-ZOMATO PAYMENT\n",
            "UPI-MAHENDRAN K M-SRIMURUGANSUPERMARKET1969@OKHDFCBANK-HDFC0001864-110419857067-UPI\n",
            "UPI-JOHN BRITTO-7010668784@UPI-SIBL0000110-110511726511-UPI\n",
            "UPI-ZOMATO-ZOMATO-ORDER@PAYTM-PYTM0123456-110516381422-ZOMATO PAYMENT\n",
            "UPI-ZERODHA BROKING LTD-ZERODHABROKING@HDFCBANK-HDFC0000523-110610318780-KITE DEPOSIT 29532\n",
            "UPI-AMAZON SELLER SERVIC-AMAZONSELLERSERVICES.98397377@HDFCBANK-HDFC0000499-110612228376-UPI\n",
            "UPI-MR KISHORE KUMAR NAH-KISHORE.NAHAR007@OKAXIS-IDIB000G079-110709376564-UPI\n",
            "UPI-NILANI NALLAMUTHU-NILANI.NALLAMUTHU0901@OKICICI-UBIN0535214-110718676729-UPI\n",
            "UPI-ZOMATO-ZOMATO-ORDER@PAYTM-PYTM0123456-110812691982-ZOMATO PAYMENT\n",
            "UPI-MR KISHORE KUMAR NAH-KISHORE.NAHAR007@OKAXIS-IDIB000G079-110909595550-UPI\n",
            "UPI-MR SHAKSHI NAHAR-SHAKSHI.NAHAR2001@OKHDFCBANK-IDIB000G079-110915425971-UPI\n",
            "UPI-ZOMATO-ZOMATO@HDFCBANK-HDFC0000499-110918954586-ZOMATOONLINEORDER\n",
            "NWD-435584XXXXXX8149-S1AG0791-CHENNAI\n",
            "NWD-435584XXXXXX8149-S1AG0791-CHENNAI\n",
            "UPI-ZOMATO-ZOMATO-ORDER@PAYTM-PYTM0123456-111115476308-ZOMATO PAYMENT\n",
            "UPI-PAYTM AIRTEL RECHARG-PAYAIR7673@PAYTM-PYTM0123456-111280554678-OID13343571337@PAY\n",
            "UPI-SHREYA KISHORE NAHAR-SHREYA.NAHAR1998@OKHDFCBANK-HDFC0000082-111215555734-UPI\n",
            "UPI-MAHALAKSHMI N-MAHA1965LAKSH@OKICICI-KARB0000488-111216917918-UPI\n",
            "POS 435584XXXXXX8149 T NAGAR THIRUMAL\n",
            "UPI-ZOMATO-ZOMATO-ORDER@PAYTM-PYTM0123456-111218239558-ZOMATO PAYMENT\n",
            "INST-ALERT CHG INC GST JAN-MAR2021-MIR2110910895621\n",
            "UPI-FLIPKART-FLIPKART.PAYU@HDFCBANK-HDFC0000499-111318192982-UPI TRANSACTION\n",
            "UPI-ZOMATO-ZOMATO-ORDER@PAYTM-PYTM0123456-111319288655-ZOMATO PAYMENT\n",
            "UPI-ZOMATO-ZOMATO-ORDER@PAYTM-PYTM0123456-111321942912-ZOMATO PAYMENT\n",
            "UPI-MAHENDRAN K M-SRIMURUGANSUPERMARKET1969@OKHDFCBANK-HDFC0001864-111415419138-UPI\n",
            "UPI-ZOMATO-ZOMATO-ORDER@PAYTM-PYTM0123456-111417288245-ZOMATO PAYMENT\n",
            "UPI-SWIGGY-SWIGGYUPI@AXISBANK-UTIB0000000-111518999029-SWIGGY ORDER ID 10\n",
            "UPI-ZOMATO-ZOMATO-ORDER@PAYTM-PYTM0123456-111607097814-ZOMATO PAYMENT\n",
            "UPI-ZERODHA BROKING LTD-ZERODHABROKING@HDFCBANK-HDFC0000523-111612684724-ZERODHA EQUITY 687\n",
            "UPI-ZOMATO-ZOMATO@HDFCBANK-HDFC0000499-111617883977-ZOMATOONLINEORDER\n",
            "NEFT DR-PUNB0668200-ROHAN-NETBANK, MUM-N117211485790547-FUNDS\n",
            "UPI-ZOMATO-ZOMATO-ORDER@PAYTM-PYTM0123456-111715353032-ZOMATO PAYMENT\n",
            "UPI-ZOMATO-ZOMATO-ORDER@PAYTM-PYTM0123456-111807924757-ZOMATO PAYMENT\n",
            "UPI-MAHENDRAN K M-SRIMURUGANSUPERMARKET1969@OKHDFCBANK-HDFC0001864-111819039862-THE\n",
            "UPI-ZOMATO-ZOMATO@HDFCBANK-HDFC0000499-111907025188-ZOMATOONLINEORDER\n",
            "UPI-ZERODHA BROKING LTD-ZERODHABROKING@HDFCBANK-HDFC0000523-111912616791-ZERODHA EQUITY 954\n",
            "UPI-RAZORPAYZOMATO-ZOMATOINDIA@ICICI-ICIC0000001-111914441455-ZOMATOONLINEORDER\n",
            "UPI-MCRENNETT  HABIBULLA-Q83032856@YBL-YESB0YBLUPI-112020946065-UPI\n",
            "UPI-RAJAMMA-Q77223686@YBL-FDRL0001386-112122736133-THE\n",
            "UPI-ZOMATO-ZOMATO-ORDER@PAYTM-PYTM0123456-112208723651-ZOMATO PAYMENT\n",
            "UPI-RAZORPAYZOMATO-ZOMATOINDIA@ICICI-ICIC0000001-112220978804-ZOMATOONLINEORDER\n",
            "UPI-SWIGGY-SWIGGYUPI@AXISBANK-UTIB0000000-112313144985-SWIGGY ORDER ID 10\n",
            "UPI-ZOMATO-ZOMATO-ORDER@PAYTM-PYTM0123456-112317057317-ZOMATO PAYMENT\n",
            "UPI-KAPOOR CHAND-AMZN0004251406@APL-PUNB0673800-112317223124-UPI\n",
            "UPI-BHARATPEMERCHANT-BHARATPE.9042524061@ICICI-ICIC0000001-112317232898-PAY TO BROWN TREE\n",
            "UPI-BHARATPEMERCHANT-BHARATPE.9042524061@ICICI-ICIC0000001-112317244756-PAY TO BROWN TREE\n",
            "UPI-SWIGGY-SWIGGYUPI@AXISBANK-UTIB0000000-112321003522-SWIGGY ORDER ID 10\n",
            "IB FUNDS TRANSFER DR-50100416578348  -SHREYANS NAHAR\n",
            "UPI-NAGARAJ  T-Q17451014@YBL-SBIN0014203-112417915348-UPI\n",
            "UPI-ZOMATO-ZOMATO-ORDER@PAYTM-PYTM0123456-112418319250-ZOMATO PAYMENT\n",
            "UPI-RAZORPAYZOMATO-ZOMATOINDIA@ICICI-ICIC0000001-112507696460-ZOMATOONLINEORDER\n",
            "UPI-MR KISHORE KUMAR NAH-KISHORE.NAHAR007@OKAXIS-IDIB000G079-112610362024-UPI\n",
            "UPI-ZOMATO-ZOMATO-ORDER@PAYTM-PYTM0123456-112718078039-ZOMATO PAYMENT\n",
            "UPI-RPANNEERSELVAM-PANNERSELVAM76@OKAXIS-LAVB0000431-112813959062-UPI\n",
            "POS 435584XXXXXX8149 JUST BUY CYCLES\n",
            "UPI-FLIPKART INTERNET PV-FLIPKART1@INDUS-INDB0002201-112819818722-UPI TRANSACTION\n",
            "UPI-DURGA PRASAD  UPADHY-DURGAPRASADUPADHYAY18-3@OKSBI-SBIN0018393-112820403901-UPI\n",
            "UPI-DURGA PRASAD  UPADHY-DURGAPRASADUPADHYAY18-3@OKSBI-SBIN0018393-112918363157-UPI\n",
            "UPI-BALAJI SANDWICH EGMO-PAYTMQR281005050101GUR1JA28IFDE@PAYTM-PYTM0123456-112918685161-UPI\n",
            "UPI-S DIVYA-PAYTMQR2810050501011K7JHXYYIKIZ@PAYTM-PYTM0123456-112918711353-UPI\n",
            "UPI-RAZORPAYZOMATO-ZOMATOINDIA@ICICI-ICIC0000001-112920492423-ZOMATOONLINEORDER\n",
            "UPI-SWIGGY-UPISWIGGY@ICICI-ICIC0000001-112920071185-PAYMENT FOR SWIGGY\n",
            "UPI-SWIGGY-UPISWIGGY@ICICI-ICIC0000001-112921452885-TXN FAILED AT MERC\n",
            "UPI-ZERODHA BROKING LTD-ZERODHABROKING@HDFCBANK-HDFC0000523-113009948332-ZERODHA EQUITY 756\n",
            "UPI-ZOMATO-ZOMATO-ORDER@PAYTM-PYTM0123456-113019216082-ZOMATO PAYMENT\n",
            "UPI-SWIGGY-SWIGGYUPI@AXISBANK-UTIB0000000-113020458017-SWIGGY ORDER ID 10\n",
            "UPI-MR KISHORE KUMAR NAH-KISHORE.NAHAR007@OKAXIS-IDIB000G079-113111143059-UPI\n",
            "UPI-MR SHAKSHI NAHAR-SHAKSHI.NAHAR2001@OKHDFCBANK-IDIB000G079-113111154092-UPI\n",
            "UPI-ZERODHA-ZERODHA.RAZORPAY@ICICI-ICIC0000002-113112275233-ZERODHA 4148431785\n",
            "UPI-RAZORPAYZOMATO-ZOMATOINDIA@ICICI-ICIC0000001-113120456418-ZOMATOONLINEORDER\n",
            "UPI-SHREYA KISHORE NAHAR-SHREYA.NAHAR1998@OKHDFCBANK-HDFC0000082-113213073499-UPI\n",
            "UPI-SWIGGY-SWIGGYUPI@AXISBANK-UTIB0000000-113319703013-SWIGGY ORDER ID 10\n",
            "UPI-RAZORPAYZOMATO-ZOMATOINDIA@ICICI-ICIC0000001-113319549008-ZOMATOONLINEORDER\n",
            "UPI-MR KISHORE KUMAR NAH-KISHORE.NAHAR007@OKAXIS-IDIB000G079-113418933288-UPI\n",
            "UPI-SWIGGY-SWIGGYUPI@AXISBANK-UTIB0000000-113514683643-SWIGGY ORDER ID 10\n",
            "UPI-SWIGGY-SWIGGYUPI@AXISBANK-UTIB0000000-113520496024-SWIGGY ORDER ID 10\n",
            "UPI-SWIGGY-SWIGGYUPI@AXISBANK-UTIB0000000-113614925896-SWIGGY ORDER ID 10\n",
            "UPI-PAYTM AIRTEL RECHARG-PAYAIR7673@PAYTM-PYTM0123456-113685982323-OID13596632585@PAY\n",
            "UPI-FLIPKART-FLIPKART.PAYU@HDFCBANK-HDFC0000499-113702714361-UPI TRANSACTION\n",
            "UPI-COFFEE HOUSE AT MOUN-PAYTM-52005529@PAYTM-PYTM0123456-113818354943-UPI\n",
            "UPI-ZOMATO-ZOMATO-ORDER@PAYTM-PYTM0123456-113818722570-ZOMATO PAYMENT\n",
            "UPI-DAYASHANKAR  DUBEY-Q07099181@YBL-KKBK0008487-113921850483-UPI\n",
            "UPI-ZOMATO-ZOMATO-ORDER@PAYTM-PYTM0123456-114008157293-ZOMATO PAYMENT\n",
            "UPI-ZERODHA BROKING LTD-ZERODHABROKING@HDFCBANK-HDFC0000523-114023538226-UPI\n",
            "NEFT CR-SBIN0050661-MR  ASHISH  G-SHREYANS NAHAR-SBIN421141947356\n",
            "UPI-BILLDESKTEZ-BILLDESK.ELECTRICITY@ICICI-ICIC0000555-114111018698-UPI\n",
            "UPI-RAZORPAYZOMATO-ZOMATOINDIA@ICICI-ICIC0000001-114118272856-ZOMATOONLINEORDER\n",
            "UPI-DAYASHANKAR  DUBEY-Q07099181@YBL-KKBK0008487-114120756305-UPI\n",
            "UPI-SWIGGY-UPISWIGGY@ICICI-ICIC0000001-114212153682-PAYMENT FOR SWIGGY\n",
            "UPI-DURGA PRASAD  UPADHY-DURGAPRASADUPADHYAY18-3@OKSBI-SBIN0018393-114216368009-UPI\n",
            "UPI-SWIGGY-UPISWIGGY@ICICI-ICIC0000001-114218385460-PAYMENT FOR SWIGGY\n",
            "UPI-SWIGGY-SWIGGYUPI@AXISBANK-UTIB0000000-114218255321-SWIGGY ORDER ID 10\n",
            "UPI-SWIGGY-SWIGGYUPI@AXISBANK-UTIB0000000-114220916871-SWIGGY ORDER ID 10\n",
            "UPI-COFFEE HOUSE AT MOUN-PAYTM-52005529@PAYTM-PYTM0123456-114311078395-UPI\n",
            "50100327843595-TPT-CHECK-MANJULA NAHAR\n",
            "UPI-GKM FURNITURES-GPAY-11166927578@OKBIZAXIS-UTIB0000000-114316002455-UPI\n",
            "UPI-MR KISHORE KUMAR NAH-KISHORE.NAHAR007@OKAXIS-IDIB000G079-114411945591-UPI\n",
            "UPI-ZOMATO-ZOMATO@HDFCBANK-HDFC0000499-114418358944-ZOMATOONLINEORDER\n",
            "UPI-ZOMATO-ZOMATO@HDFCBANK-HDFC0000499-114419428117-ZOMATOONLINEORDER\n",
            "UPI-ZERODHA BROKING LTD-ZERODHABROKING@HDFCBANK-HDFC0000523-114509771820-UPI\n",
            "UPI-ZERODHA BROKING LTD-ZERODHABROKING@HDFCBANK-HDFC0000523-114610337853-UPI\n",
            "UPI-ZOMATO-ZOMATO-ORDER@PAYTM-PYTM0123456-114707688807-ZOMATO PAYMENT\n",
            "UPI-SWIGGY-UPISWIGGY@ICICI-ICIC0000001-114718262034-PAYMENT FOR SWIGGY\n",
            "UPI-SWIGGY-UPISWIGGY@ICICI-ICIC0000001-114719446449-PAYMENT FOR SWIGGY\n",
            "UPI-SWIGGY-UPISWIGGY@ICICI-ICIC0000001-114809216765-PAYMENT FOR SWIGGY\n",
            "UPI-SWIGGY-SWIGGYUPI@AXISBANK-UTIB0000000-114818097587-SWIGGY ORDER ID 10\n",
            "UPI-ZOMATO-ZOMATO-ORDER@PAYTM-PYTM0123456-114818894697-ZOMATO PAYMENT\n",
            "UPI-SWIGGY-SWIGGYUPI@AXISBANK-UTIB0000000-114918163326-SWIGGY ORDER ID 10\n",
            "UPI-SWIGGY-SWIGGYUPI@AXISBANK-UTIB0000000-114918392120-SWIGGY ORDER ID 10\n",
            "UPI-SWIGGY-SWIGGY.REFUNDS@AXISBANK-UTIB0000052-114918032396-REFUND FROM SWIGGY\n",
            "UPI-ZOMATO-ZOMATO-ORDER@PAYTM-PYTM0123456-114918316306-ZOMATO PAYMENT\n",
            "UPI-SWIGGY-SWIGGYUPI@AXISBANK-UTIB0000000-115013903923-SWIGGY ORDER ID 10\n",
            "UPI-SWIGGY-SWIGGYUPI@AXISBANK-UTIB0000000-115020215737-SWIGGY ORDER ID 10\n",
            "UPI-RAZORPAYZOMATO-ZOMATOINDIA@ICICI-ICIC0000001-115107331325-ZOMATOONLINEORDER\n",
            "NEFT CR-INDB0000006-WESTERN UNION INTERNATIONAL BANK G-SHREYANS NAHAR-000346477566 PURPOSE OF PAYMENT PAYROLL WA\n",
            "UPI-ZOMATO-ZOMATO-ORDER@PAYTM-PYTM0123456-115212581973-ZOMATO PAYMENT\n",
            "UPI-SWIGGY-SWIGGYUPI@AXISBANK-UTIB0000000-115213195611-SWIGGY ORDER ID 10\n",
            "UPI-ZOMATO-ZOMATO-ORDER@PAYTM-PYTM0123456-115213854831-ZOMATO PAYMENT\n",
            "UPI-ZOMATO-ZOMATO-ORDER@PAYTM-PYTM0123456-115218068917-ZOMATO PAYMENT\n",
            "UPI-RPANNEERSELVAM-PANNERSELVAM76@OKAXIS-LAVB0000431-115313236395-UPI\n",
            "UPI-SWIGGY-UPISWIGGY@ICICI-ICIC0000001-115320009338-PAYMENT FOR SWIGGY\n",
            "UPI-SWIGGY-SWIGGYUPI@AXISBANK-UTIB0000000-115320473225-SWIGGY ORDER ID 10\n",
            "IB FUNDS TRANSFER DR-50100416578348  -SHREYANS NAHAR\n",
            "UPI-SATHISH KUMAR S-JOSEPHSATHISH1982@OKHDFCBANK-UBIN0561177-115407819707-TAKE CARE\n",
            "UPI-ZOMATO-ZOMATO-ORDER@PAYTM-PYTM0123456-115418578680-ZOMATO PAYMENT\n",
            "UPI-RAZORPAYZOMATO-ZOMATOINDIA@ICICI-ICIC0000001-115520474601-ZOMATOONLINEORDER\n",
            "UPI-SWIGGY-SWIGGYUPI@AXISBANK-UTIB0000000-115713583387-SWIGGY ORDER ID 10\n",
            "UPI-SWIGGY-SWIGGYUPI@AXISBANK-UTIB0000000-115719881540-SWIGGY ORDER ID 10\n",
            "UPI-SWIGGY-SWIGGYUPI@AXISBANK-UTIB0000000-115720355522-SWIGGY ORDER ID 10\n",
            "UPI-ZOMATO-ZOMATO-ORDER@PAYTM-PYTM0123456-115808155887-ZOMATO PAYMENT\n",
            "UPI-SWIGGY-UPISWIGGY@ICICI-ICIC0000001-115818676015-PAYMENT FOR SWIGGY\n",
            "UPI-SWIGGY-SWIGGYUPI@AXISBANK-UTIB0000000-115913633211-SWIGGY ORDER ID 10\n",
            "UPI-PAYTM AIRTEL RECHARG-PAYAIR7673@PAYTM-PYTM0123456-115973124544-OID13854562522@PAY\n",
            "UPI-ZOMATO-ZOMATO-ORDER@PAYTM-PYTM0123456-116008043839-ZOMATO PAYMENT\n",
            "UPI-ZERODHA BROKING LTD-ZERODHABROKING@HDFCBANK-HDFC0000523-116011068143-UPI\n",
            "UPI-SHREYA KISHORE NAHAR-SHREYA.NAHAR1998@OKHDFCBANK-HDFC0000082-116017000989-UPI\n",
            "UPI-ZOMATO-ZOMATO-ORDER@PAYTM-PYTM0123456-116108401516-ZOMATO PAYMENT\n",
            "UPI-FRUIT SHOP GOPALAPUR-PAYTMQR2810050501011S26H6RGEO5H@PAYTM-PYTM0123456-116120601010-UPI\n",
            "UPI-ZOMATO-ZOMATO@HDFCBANK-HDFC0000499-116209082183-ZOMATOONLINEORDER\n",
            "POS 435584XXXXXX8149 SWIGGY\n",
            "UPI-SWIGGY-SWIGGYUPI@AXISBANK-UTIB0000000-116219173301-SWIGGY ORDER ID 10\n",
            "UPI-SWIGGY-SWIGGYUPI@AXISBANK-UTIB0000000-116219393583-SWIGGY ORDER ID 10\n",
            "UPI-SWIGGY-UPISWIGGY@ICICI-ICIC0000001-116261869115-PAYMENT FOR SWIGGY\n",
            "UPI-SWIGGY-SWIGGYUPI@AXISBANK-UTIB0000000-116312823074-SWIGGY ORDER ID 10\n",
            "UPI-SWIGGY-UPISWIGGY@ICICI-ICIC0000001-116367440566-PAYMENT FOR SWIGGY\n",
            "UPI-SWIGGY-SWIGGYUPI@AXISBANK-UTIB0000000-116412844071-SWIGGY ORDER ID 10\n",
            "UPI-KHAJA MOHIDEEN  I-ISMAILKHAJA9@OKAXIS-IOBA0002051-116416933157-UPI\n",
            "UPI-ZOMATO-ZOMATO@HDFCBANK-HDFC0000499-116418151473-ZOMATOONLINEORDER\n",
            "UPI-RAZORPAYZOMATO-ZOMATOINDIA@ICICI-ICIC0000001-116508284974-ZOMATOONLINEORDER\n",
            "UPI-SWIGGY-SWIGGYUPI@AXISBANK-UTIB0000000-116513693773-SWIGGY ORDER ID 10\n",
            "UPI-EZILAGAM-PAYTMQR2810050501011RQMIFRWFGG2@PAYTM-PYTM0123456-116518370988-UPI\n",
            "UPI-AAVIN-PAYTMQR281005050101IP90RXRQIQU4@PAYTM-PYTM0123456-116519826662-UPI\n",
            "UPI-SWIGGY-SWIGGYUPI@AXISBANK-UTIB0000000-116612521981-SWIGGY ORDER ID 10\n",
            "UPI-SWIGGY-UPISWIGGY@ICICI-ICIC0000001-116600814704-PAYMENT FOR SWIGGY\n",
            "UPI-URBAN COMPANY-PAYTM-URBANCLAP@PAYTM-PYTM0123456-116710500921-UPI INTENT\n",
            "IB FUNDS TRANSFER CR-50100416578348  -SHREYANS NAHAR\n",
            "UPI-ZOMATO-ZOMATO-ORDER@PAYTM-PYTM0123456-116753212570-EXPRESS\n",
            "UPI-SWIGGY-UPISWIGGY@ICICI-ICIC0000001-116707459853-PAYMENT FOR SWIGGY\n",
            "UPI-FLIPKART-FLIPKART.PAYU@HDFCBANK-HDFC0000499-116718039989-UPI TRANSACTION\n",
            "UPI-FLIPKART-FLIPKART.PAYU@HDFCBANK-HDFC0000499-116718099546-UPI TRANSACTION\n",
            "UPI-SWIGGY-SWIGGYUPI@AXISBANK-UTIB0000000-116814204226-SWIGGY ORDER ID 10\n",
            "UPI-SWIGGY-SWIGGYUPI@AXISBANK-UTIB0000000-116819624619-SWIGGY ORDER ID 10\n",
            "UPI-MR KISHORE KUMAR NAH-KISHORE.NAHAR007@OKAXIS-IDIB000G079-116914767107-UPI\n",
            "UPI-COFFEE HOUSE AT MOUN-PAYTM-52005529@PAYTM-PYTM0123456-116921600777-UPI\n",
            "UPI-SWIGGY-SWIGGYUPI@AXISBANK-UTIB0000000-117208535926-SWIGGY ORDER ID 10\n",
            "UPI-NAGARAJ  T-Q17451014@YBL-SBIN0014203-117246833033-UPI\n",
            "UPI-NAGARAJ  T-Q17451014@YBL-SBIN0014203-117246930865-UPI\n",
            "UPI-SWIGGY-UPISWIGGY@ICICI-ICIC0000001-117591023449-PAYMENT FOR SWIGGY\n",
            "UPI-ASWINI AUTOMOBILES-PAYTMQR281005050101E0EDX2XBG6WY@PAYTM-PYTM0123456-117579817468-UPI\n",
            "ATW-435584XXXXXX8149-S1ACCN64-CHENNAI\n",
            "ATW-435584XXXXXX8149-S1ACCN64-CHENNAI\n",
            "UPI-SWIGGY-SWIGGYUPI@AXISBANK-UTIB0000000-117612805420-SWIGGY ORDER ID 10\n",
            "IB FUNDS TRANSFER CR-50100416578348  -SHREYANS NAHAR\n",
            "UPI-NAGARAJ  T-Q17451014@YBL-SBIN0014203-117687015040-UPI\n",
            "UPI-SWIGGY-SWIGGYUPI@AXISBANK-UTIB0000000-117714179434-SWIGGY ORDER ID 10\n",
            "UPI-COFFEE HOUSE AT MOUN-PAYTM-52005529@PAYTM-PYTM0123456-117798559179-UPI\n",
            "UPI-NAGARAJ  T-Q17451014@YBL-SBIN0014203-117802049416-UPI\n",
            "UPI-SWIGGY-SWIGGYUPI@AXISBANK-UTIB0000000-117809426797-SWIGGY ORDER ID 10\n",
            "UPI-SWIGGY-SWIGGYUPI@AXISBANK-UTIB0000000-117813984095-SWIGGY ORDER ID 10\n",
            "NEFT CR-INDB0000006-WESTERN UNION INTERNATIONAL BANK G-SHREYANS NAHAR-000351664985 PURPOSE OF PAYMENT PAYROLL WA\n",
            "UPI-SWIGGY-SWIGGYUPI@AXISBANK-UTIB0000000-117917210429-SWIGGY ORDER ID 10\n",
            "UPI-MANJULA NAHAR-MANJULA.NAHAR1972@OKHDFCBANK-HDFC0002043-118019714667-UPI\n",
            "UPI-NAGARAJ  T-Q17451014@YBL-SBIN0014203-118023554411-UPI\n",
            "UPI-SWIGGY-SWIGGYUPI@AXISBANK-UTIB0000000-118014672621-SWIGGY ORDER ID 10\n",
            "UPI-MR SHAKSHI NAHAR-SHAKSHI.NAHAR2001@OKHDFCBANK-IDIB000G079-118132476706-UPI\n",
            "IB FUNDS TRANSFER DR-50100416578348  -SHREYANS NAHAR\n",
            "NEFT DR-PUNB0668200-ROHAN-NETBANK, MUM-N181211549454535-FUNDS\n",
            "CREDIT INTEREST CAPITALISED\n"
          ]
        }
      ]
    },
    {
      "cell_type": "code",
      "source": [
        "data['class'] = np.nan"
      ],
      "metadata": {
        "id": "Mu9Dv42YUVPo"
      },
      "execution_count": 13,
      "outputs": []
    },
    {
      "cell_type": "code",
      "source": [
        "classes = ['food', 'shopping', 'broker', 'credit', 'cash withdrawal', 'funds transfer', 'others']\n",
        "buckets = ['food', 'shopping', 'broker', 'credit', 'cash withdrawal', 'funds transfer']\n"
      ],
      "metadata": {
        "id": "C4z_TuM3UXcT"
      },
      "execution_count": 14,
      "outputs": []
    },
    {
      "cell_type": "markdown",
      "source": [
        "buckets = ['food', 'shopping', 'broker', 'credit', 'cash withdrawal', 'funds transfer']\n",
        "\n",
        "food -> zomato, swiggy, coffee, fruit\n",
        "\n",
        "shopping -> market, supermarket, amazon\n",
        "\n",
        "broker -> zerodha\n",
        "\n",
        "credit -> CREDIT_AMOUNT != Nan\n",
        "\n",
        "cash withdrawal -> atw\n",
        "\n",
        "transfer -> funds transfer, fundstransfer, neft, @ok, pos(.), nwd\n",
        "\n",
        "others -> ach"
      ],
      "metadata": {
        "id": "0DfanRERxII-"
      }
    },
    {
      "cell_type": "code",
      "source": [
        "for i in range(len(data)):\n",
        "    data['Transaction Summary'][i] = data['Transaction Summary'][i].lower()\n",
        "    food = re.search(r'zomato|swiggy|coffee|fruit', data['Transaction Summary'][i])\n",
        "    shopping = re.search(r'market|supermarket|flipkart|amazon', data['Transaction Summary'][i])\n",
        "    broker = re.search(r'zerodha', data['Transaction Summary'][i])\n",
        "    withdrawal = re.search(r'atw', data['Transaction Summary'][i])\n",
        "    transfer = re.search(r'funds transfer|fundstransfer|neft|@ok|pos|nwd', data['Transaction Summary'][i])\n",
        "    if food:\n",
        "        data['class'][i] = 'food'\n",
        "    if shopping:\n",
        "        data['class'][i] = 'shopping'\n",
        "    if broker:\n",
        "        data['class'][i] = 'broker'\n",
        "    if withdrawal:\n",
        "        data['class'][i] = 'cash withdrawal'\n",
        "    if transfer:\n",
        "        data['class'][i] = 'funds transfer'"
      ],
      "metadata": {
        "colab": {
          "base_uri": "https://localhost:8080/"
        },
        "id": "eIfvpCCyUZhu",
        "outputId": "dec788f0-8e3d-4523-a67d-9338f7b7a4dc"
      },
      "execution_count": 15,
      "outputs": [
        {
          "output_type": "stream",
          "name": "stderr",
          "text": [
            "/usr/local/lib/python3.7/dist-packages/ipykernel_launcher.py:2: SettingWithCopyWarning: \n",
            "A value is trying to be set on a copy of a slice from a DataFrame\n",
            "\n",
            "See the caveats in the documentation: https://pandas.pydata.org/pandas-docs/stable/user_guide/indexing.html#returning-a-view-versus-a-copy\n",
            "  \n",
            "/usr/local/lib/python3.7/dist-packages/ipykernel_launcher.py:17: SettingWithCopyWarning: \n",
            "A value is trying to be set on a copy of a slice from a DataFrame\n",
            "\n",
            "See the caveats in the documentation: https://pandas.pydata.org/pandas-docs/stable/user_guide/indexing.html#returning-a-view-versus-a-copy\n",
            "/usr/local/lib/python3.7/dist-packages/pandas/core/indexing.py:1732: SettingWithCopyWarning: \n",
            "A value is trying to be set on a copy of a slice from a DataFrame\n",
            "\n",
            "See the caveats in the documentation: https://pandas.pydata.org/pandas-docs/stable/user_guide/indexing.html#returning-a-view-versus-a-copy\n",
            "  self._setitem_single_block(indexer, value, name)\n"
          ]
        }
      ]
    },
    {
      "cell_type": "code",
      "source": [
        "data.head()"
      ],
      "metadata": {
        "colab": {
          "base_uri": "https://localhost:8080/",
          "height": 206
        },
        "id": "OfQKjOY7Ua5P",
        "outputId": "4f1c0a72-8057-4006-8459-22b7b02da8a9"
      },
      "execution_count": 16,
      "outputs": [
        {
          "output_type": "execute_result",
          "data": {
            "text/plain": [
              "  Date of Transaction                                Transaction Summary  \\\n",
              "0            01/04/21  upi-k rajesh-rajeshdpmindia@okicici-icic000000...   \n",
              "1            01/04/21  neft dr-punb0668200-rohan-netbank, mum-n091211...   \n",
              "2            01/04/21  upi-k rajesh-rajeshdpmindia@okicici-icic000000...   \n",
              "3            01/04/21  upi-zomato-zomato-order@paytm-pytm0123456-1091...   \n",
              "4            02/04/21  upi-mahendran k m-srimurugansupermarket1969@ok...   \n",
              "\n",
              "      Date2 Debit Amount Credit Amount           class  \n",
              "0  01/04/21            1           NaN  funds transfer  \n",
              "1  01/04/21        17816           NaN  funds transfer  \n",
              "2  01/04/21        24999           NaN  funds transfer  \n",
              "3  01/04/21       111.18           NaN            food  \n",
              "4  02/04/21           40           NaN  funds transfer  "
            ],
            "text/html": [
              "\n",
              "  <div id=\"df-69d1fb70-952b-48ba-a45f-d2a5262d4fa0\">\n",
              "    <div class=\"colab-df-container\">\n",
              "      <div>\n",
              "<style scoped>\n",
              "    .dataframe tbody tr th:only-of-type {\n",
              "        vertical-align: middle;\n",
              "    }\n",
              "\n",
              "    .dataframe tbody tr th {\n",
              "        vertical-align: top;\n",
              "    }\n",
              "\n",
              "    .dataframe thead th {\n",
              "        text-align: right;\n",
              "    }\n",
              "</style>\n",
              "<table border=\"1\" class=\"dataframe\">\n",
              "  <thead>\n",
              "    <tr style=\"text-align: right;\">\n",
              "      <th></th>\n",
              "      <th>Date of Transaction</th>\n",
              "      <th>Transaction Summary</th>\n",
              "      <th>Date2</th>\n",
              "      <th>Debit Amount</th>\n",
              "      <th>Credit Amount</th>\n",
              "      <th>class</th>\n",
              "    </tr>\n",
              "  </thead>\n",
              "  <tbody>\n",
              "    <tr>\n",
              "      <th>0</th>\n",
              "      <td>01/04/21</td>\n",
              "      <td>upi-k rajesh-rajeshdpmindia@okicici-icic000000...</td>\n",
              "      <td>01/04/21</td>\n",
              "      <td>1</td>\n",
              "      <td>NaN</td>\n",
              "      <td>funds transfer</td>\n",
              "    </tr>\n",
              "    <tr>\n",
              "      <th>1</th>\n",
              "      <td>01/04/21</td>\n",
              "      <td>neft dr-punb0668200-rohan-netbank, mum-n091211...</td>\n",
              "      <td>01/04/21</td>\n",
              "      <td>17816</td>\n",
              "      <td>NaN</td>\n",
              "      <td>funds transfer</td>\n",
              "    </tr>\n",
              "    <tr>\n",
              "      <th>2</th>\n",
              "      <td>01/04/21</td>\n",
              "      <td>upi-k rajesh-rajeshdpmindia@okicici-icic000000...</td>\n",
              "      <td>01/04/21</td>\n",
              "      <td>24999</td>\n",
              "      <td>NaN</td>\n",
              "      <td>funds transfer</td>\n",
              "    </tr>\n",
              "    <tr>\n",
              "      <th>3</th>\n",
              "      <td>01/04/21</td>\n",
              "      <td>upi-zomato-zomato-order@paytm-pytm0123456-1091...</td>\n",
              "      <td>01/04/21</td>\n",
              "      <td>111.18</td>\n",
              "      <td>NaN</td>\n",
              "      <td>food</td>\n",
              "    </tr>\n",
              "    <tr>\n",
              "      <th>4</th>\n",
              "      <td>02/04/21</td>\n",
              "      <td>upi-mahendran k m-srimurugansupermarket1969@ok...</td>\n",
              "      <td>02/04/21</td>\n",
              "      <td>40</td>\n",
              "      <td>NaN</td>\n",
              "      <td>funds transfer</td>\n",
              "    </tr>\n",
              "  </tbody>\n",
              "</table>\n",
              "</div>\n",
              "      <button class=\"colab-df-convert\" onclick=\"convertToInteractive('df-69d1fb70-952b-48ba-a45f-d2a5262d4fa0')\"\n",
              "              title=\"Convert this dataframe to an interactive table.\"\n",
              "              style=\"display:none;\">\n",
              "        \n",
              "  <svg xmlns=\"http://www.w3.org/2000/svg\" height=\"24px\"viewBox=\"0 0 24 24\"\n",
              "       width=\"24px\">\n",
              "    <path d=\"M0 0h24v24H0V0z\" fill=\"none\"/>\n",
              "    <path d=\"M18.56 5.44l.94 2.06.94-2.06 2.06-.94-2.06-.94-.94-2.06-.94 2.06-2.06.94zm-11 1L8.5 8.5l.94-2.06 2.06-.94-2.06-.94L8.5 2.5l-.94 2.06-2.06.94zm10 10l.94 2.06.94-2.06 2.06-.94-2.06-.94-.94-2.06-.94 2.06-2.06.94z\"/><path d=\"M17.41 7.96l-1.37-1.37c-.4-.4-.92-.59-1.43-.59-.52 0-1.04.2-1.43.59L10.3 9.45l-7.72 7.72c-.78.78-.78 2.05 0 2.83L4 21.41c.39.39.9.59 1.41.59.51 0 1.02-.2 1.41-.59l7.78-7.78 2.81-2.81c.8-.78.8-2.07 0-2.86zM5.41 20L4 18.59l7.72-7.72 1.47 1.35L5.41 20z\"/>\n",
              "  </svg>\n",
              "      </button>\n",
              "      \n",
              "  <style>\n",
              "    .colab-df-container {\n",
              "      display:flex;\n",
              "      flex-wrap:wrap;\n",
              "      gap: 12px;\n",
              "    }\n",
              "\n",
              "    .colab-df-convert {\n",
              "      background-color: #E8F0FE;\n",
              "      border: none;\n",
              "      border-radius: 50%;\n",
              "      cursor: pointer;\n",
              "      display: none;\n",
              "      fill: #1967D2;\n",
              "      height: 32px;\n",
              "      padding: 0 0 0 0;\n",
              "      width: 32px;\n",
              "    }\n",
              "\n",
              "    .colab-df-convert:hover {\n",
              "      background-color: #E2EBFA;\n",
              "      box-shadow: 0px 1px 2px rgba(60, 64, 67, 0.3), 0px 1px 3px 1px rgba(60, 64, 67, 0.15);\n",
              "      fill: #174EA6;\n",
              "    }\n",
              "\n",
              "    [theme=dark] .colab-df-convert {\n",
              "      background-color: #3B4455;\n",
              "      fill: #D2E3FC;\n",
              "    }\n",
              "\n",
              "    [theme=dark] .colab-df-convert:hover {\n",
              "      background-color: #434B5C;\n",
              "      box-shadow: 0px 1px 3px 1px rgba(0, 0, 0, 0.15);\n",
              "      filter: drop-shadow(0px 1px 2px rgba(0, 0, 0, 0.3));\n",
              "      fill: #FFFFFF;\n",
              "    }\n",
              "  </style>\n",
              "\n",
              "      <script>\n",
              "        const buttonEl =\n",
              "          document.querySelector('#df-69d1fb70-952b-48ba-a45f-d2a5262d4fa0 button.colab-df-convert');\n",
              "        buttonEl.style.display =\n",
              "          google.colab.kernel.accessAllowed ? 'block' : 'none';\n",
              "\n",
              "        async function convertToInteractive(key) {\n",
              "          const element = document.querySelector('#df-69d1fb70-952b-48ba-a45f-d2a5262d4fa0');\n",
              "          const dataTable =\n",
              "            await google.colab.kernel.invokeFunction('convertToInteractive',\n",
              "                                                     [key], {});\n",
              "          if (!dataTable) return;\n",
              "\n",
              "          const docLinkHtml = 'Like what you see? Visit the ' +\n",
              "            '<a target=\"_blank\" href=https://colab.research.google.com/notebooks/data_table.ipynb>data table notebook</a>'\n",
              "            + ' to learn more about interactive tables.';\n",
              "          element.innerHTML = '';\n",
              "          dataTable['output_type'] = 'display_data';\n",
              "          await google.colab.output.renderOutput(dataTable, element);\n",
              "          const docLink = document.createElement('div');\n",
              "          docLink.innerHTML = docLinkHtml;\n",
              "          element.appendChild(docLink);\n",
              "        }\n",
              "      </script>\n",
              "    </div>\n",
              "  </div>\n",
              "  "
            ]
          },
          "metadata": {},
          "execution_count": 16
        }
      ]
    },
    {
      "cell_type": "code",
      "source": [
        "for i in range(len(data)):\n",
        "    if data['Credit Amount'][i] is not np.nan:\n",
        "        data['class'][i] = 'Credit'\n",
        "    if data['class'][i] == 'NaN':\n",
        "        data['class'][i] = 'others'\n",
        "\n",
        "data"
      ],
      "metadata": {
        "colab": {
          "base_uri": "https://localhost:8080/",
          "height": 424
        },
        "id": "uhN1EeVjUg9q",
        "outputId": "5dae52e9-05da-437b-b388-01795f3a74f4"
      },
      "execution_count": 17,
      "outputs": [
        {
          "output_type": "execute_result",
          "data": {
            "text/plain": [
              "    Date of Transaction                                Transaction Summary  \\\n",
              "0              01/04/21  upi-k rajesh-rajeshdpmindia@okicici-icic000000...   \n",
              "1              01/04/21  neft dr-punb0668200-rohan-netbank, mum-n091211...   \n",
              "2              01/04/21  upi-k rajesh-rajeshdpmindia@okicici-icic000000...   \n",
              "3              01/04/21  upi-zomato-zomato-order@paytm-pytm0123456-1091...   \n",
              "4              02/04/21  upi-mahendran k m-srimurugansupermarket1969@ok...   \n",
              "..                  ...                                                ...   \n",
              "220            29/06/21  upi-swiggy-swiggyupi@axisbank-utib0000000-1180...   \n",
              "221            30/06/21  upi-mr shakshi nahar-shakshi.nahar2001@okhdfcb...   \n",
              "222            30/06/21  ib funds transfer dr-50100416578348  -shreyans...   \n",
              "223            30/06/21  neft dr-punb0668200-rohan-netbank, mum-n181211...   \n",
              "224            01/07/21                        credit interest capitalised   \n",
              "\n",
              "        Date2 Debit Amount Credit Amount           class  \n",
              "0    01/04/21            1           NaN  funds transfer  \n",
              "1    01/04/21        17816           NaN  funds transfer  \n",
              "2    01/04/21        24999           NaN  funds transfer  \n",
              "3    01/04/21       111.18           NaN            food  \n",
              "4    02/04/21           40           NaN  funds transfer  \n",
              "..        ...          ...           ...             ...  \n",
              "220  29/06/21          108           NaN            food  \n",
              "221  30/06/21          300           NaN  funds transfer  \n",
              "222  30/06/21       296000           NaN  funds transfer  \n",
              "223  30/06/21       200000           NaN  funds transfer  \n",
              "224  30/06/21          NaN          1428          Credit  \n",
              "\n",
              "[225 rows x 6 columns]"
            ],
            "text/html": [
              "\n",
              "  <div id=\"df-c8ca2862-fb9a-4168-a85c-ae3c21f0c58d\">\n",
              "    <div class=\"colab-df-container\">\n",
              "      <div>\n",
              "<style scoped>\n",
              "    .dataframe tbody tr th:only-of-type {\n",
              "        vertical-align: middle;\n",
              "    }\n",
              "\n",
              "    .dataframe tbody tr th {\n",
              "        vertical-align: top;\n",
              "    }\n",
              "\n",
              "    .dataframe thead th {\n",
              "        text-align: right;\n",
              "    }\n",
              "</style>\n",
              "<table border=\"1\" class=\"dataframe\">\n",
              "  <thead>\n",
              "    <tr style=\"text-align: right;\">\n",
              "      <th></th>\n",
              "      <th>Date of Transaction</th>\n",
              "      <th>Transaction Summary</th>\n",
              "      <th>Date2</th>\n",
              "      <th>Debit Amount</th>\n",
              "      <th>Credit Amount</th>\n",
              "      <th>class</th>\n",
              "    </tr>\n",
              "  </thead>\n",
              "  <tbody>\n",
              "    <tr>\n",
              "      <th>0</th>\n",
              "      <td>01/04/21</td>\n",
              "      <td>upi-k rajesh-rajeshdpmindia@okicici-icic000000...</td>\n",
              "      <td>01/04/21</td>\n",
              "      <td>1</td>\n",
              "      <td>NaN</td>\n",
              "      <td>funds transfer</td>\n",
              "    </tr>\n",
              "    <tr>\n",
              "      <th>1</th>\n",
              "      <td>01/04/21</td>\n",
              "      <td>neft dr-punb0668200-rohan-netbank, mum-n091211...</td>\n",
              "      <td>01/04/21</td>\n",
              "      <td>17816</td>\n",
              "      <td>NaN</td>\n",
              "      <td>funds transfer</td>\n",
              "    </tr>\n",
              "    <tr>\n",
              "      <th>2</th>\n",
              "      <td>01/04/21</td>\n",
              "      <td>upi-k rajesh-rajeshdpmindia@okicici-icic000000...</td>\n",
              "      <td>01/04/21</td>\n",
              "      <td>24999</td>\n",
              "      <td>NaN</td>\n",
              "      <td>funds transfer</td>\n",
              "    </tr>\n",
              "    <tr>\n",
              "      <th>3</th>\n",
              "      <td>01/04/21</td>\n",
              "      <td>upi-zomato-zomato-order@paytm-pytm0123456-1091...</td>\n",
              "      <td>01/04/21</td>\n",
              "      <td>111.18</td>\n",
              "      <td>NaN</td>\n",
              "      <td>food</td>\n",
              "    </tr>\n",
              "    <tr>\n",
              "      <th>4</th>\n",
              "      <td>02/04/21</td>\n",
              "      <td>upi-mahendran k m-srimurugansupermarket1969@ok...</td>\n",
              "      <td>02/04/21</td>\n",
              "      <td>40</td>\n",
              "      <td>NaN</td>\n",
              "      <td>funds transfer</td>\n",
              "    </tr>\n",
              "    <tr>\n",
              "      <th>...</th>\n",
              "      <td>...</td>\n",
              "      <td>...</td>\n",
              "      <td>...</td>\n",
              "      <td>...</td>\n",
              "      <td>...</td>\n",
              "      <td>...</td>\n",
              "    </tr>\n",
              "    <tr>\n",
              "      <th>220</th>\n",
              "      <td>29/06/21</td>\n",
              "      <td>upi-swiggy-swiggyupi@axisbank-utib0000000-1180...</td>\n",
              "      <td>29/06/21</td>\n",
              "      <td>108</td>\n",
              "      <td>NaN</td>\n",
              "      <td>food</td>\n",
              "    </tr>\n",
              "    <tr>\n",
              "      <th>221</th>\n",
              "      <td>30/06/21</td>\n",
              "      <td>upi-mr shakshi nahar-shakshi.nahar2001@okhdfcb...</td>\n",
              "      <td>30/06/21</td>\n",
              "      <td>300</td>\n",
              "      <td>NaN</td>\n",
              "      <td>funds transfer</td>\n",
              "    </tr>\n",
              "    <tr>\n",
              "      <th>222</th>\n",
              "      <td>30/06/21</td>\n",
              "      <td>ib funds transfer dr-50100416578348  -shreyans...</td>\n",
              "      <td>30/06/21</td>\n",
              "      <td>296000</td>\n",
              "      <td>NaN</td>\n",
              "      <td>funds transfer</td>\n",
              "    </tr>\n",
              "    <tr>\n",
              "      <th>223</th>\n",
              "      <td>30/06/21</td>\n",
              "      <td>neft dr-punb0668200-rohan-netbank, mum-n181211...</td>\n",
              "      <td>30/06/21</td>\n",
              "      <td>200000</td>\n",
              "      <td>NaN</td>\n",
              "      <td>funds transfer</td>\n",
              "    </tr>\n",
              "    <tr>\n",
              "      <th>224</th>\n",
              "      <td>01/07/21</td>\n",
              "      <td>credit interest capitalised</td>\n",
              "      <td>30/06/21</td>\n",
              "      <td>NaN</td>\n",
              "      <td>1428</td>\n",
              "      <td>Credit</td>\n",
              "    </tr>\n",
              "  </tbody>\n",
              "</table>\n",
              "<p>225 rows × 6 columns</p>\n",
              "</div>\n",
              "      <button class=\"colab-df-convert\" onclick=\"convertToInteractive('df-c8ca2862-fb9a-4168-a85c-ae3c21f0c58d')\"\n",
              "              title=\"Convert this dataframe to an interactive table.\"\n",
              "              style=\"display:none;\">\n",
              "        \n",
              "  <svg xmlns=\"http://www.w3.org/2000/svg\" height=\"24px\"viewBox=\"0 0 24 24\"\n",
              "       width=\"24px\">\n",
              "    <path d=\"M0 0h24v24H0V0z\" fill=\"none\"/>\n",
              "    <path d=\"M18.56 5.44l.94 2.06.94-2.06 2.06-.94-2.06-.94-.94-2.06-.94 2.06-2.06.94zm-11 1L8.5 8.5l.94-2.06 2.06-.94-2.06-.94L8.5 2.5l-.94 2.06-2.06.94zm10 10l.94 2.06.94-2.06 2.06-.94-2.06-.94-.94-2.06-.94 2.06-2.06.94z\"/><path d=\"M17.41 7.96l-1.37-1.37c-.4-.4-.92-.59-1.43-.59-.52 0-1.04.2-1.43.59L10.3 9.45l-7.72 7.72c-.78.78-.78 2.05 0 2.83L4 21.41c.39.39.9.59 1.41.59.51 0 1.02-.2 1.41-.59l7.78-7.78 2.81-2.81c.8-.78.8-2.07 0-2.86zM5.41 20L4 18.59l7.72-7.72 1.47 1.35L5.41 20z\"/>\n",
              "  </svg>\n",
              "      </button>\n",
              "      \n",
              "  <style>\n",
              "    .colab-df-container {\n",
              "      display:flex;\n",
              "      flex-wrap:wrap;\n",
              "      gap: 12px;\n",
              "    }\n",
              "\n",
              "    .colab-df-convert {\n",
              "      background-color: #E8F0FE;\n",
              "      border: none;\n",
              "      border-radius: 50%;\n",
              "      cursor: pointer;\n",
              "      display: none;\n",
              "      fill: #1967D2;\n",
              "      height: 32px;\n",
              "      padding: 0 0 0 0;\n",
              "      width: 32px;\n",
              "    }\n",
              "\n",
              "    .colab-df-convert:hover {\n",
              "      background-color: #E2EBFA;\n",
              "      box-shadow: 0px 1px 2px rgba(60, 64, 67, 0.3), 0px 1px 3px 1px rgba(60, 64, 67, 0.15);\n",
              "      fill: #174EA6;\n",
              "    }\n",
              "\n",
              "    [theme=dark] .colab-df-convert {\n",
              "      background-color: #3B4455;\n",
              "      fill: #D2E3FC;\n",
              "    }\n",
              "\n",
              "    [theme=dark] .colab-df-convert:hover {\n",
              "      background-color: #434B5C;\n",
              "      box-shadow: 0px 1px 3px 1px rgba(0, 0, 0, 0.15);\n",
              "      filter: drop-shadow(0px 1px 2px rgba(0, 0, 0, 0.3));\n",
              "      fill: #FFFFFF;\n",
              "    }\n",
              "  </style>\n",
              "\n",
              "      <script>\n",
              "        const buttonEl =\n",
              "          document.querySelector('#df-c8ca2862-fb9a-4168-a85c-ae3c21f0c58d button.colab-df-convert');\n",
              "        buttonEl.style.display =\n",
              "          google.colab.kernel.accessAllowed ? 'block' : 'none';\n",
              "\n",
              "        async function convertToInteractive(key) {\n",
              "          const element = document.querySelector('#df-c8ca2862-fb9a-4168-a85c-ae3c21f0c58d');\n",
              "          const dataTable =\n",
              "            await google.colab.kernel.invokeFunction('convertToInteractive',\n",
              "                                                     [key], {});\n",
              "          if (!dataTable) return;\n",
              "\n",
              "          const docLinkHtml = 'Like what you see? Visit the ' +\n",
              "            '<a target=\"_blank\" href=https://colab.research.google.com/notebooks/data_table.ipynb>data table notebook</a>'\n",
              "            + ' to learn more about interactive tables.';\n",
              "          element.innerHTML = '';\n",
              "          dataTable['output_type'] = 'display_data';\n",
              "          await google.colab.output.renderOutput(dataTable, element);\n",
              "          const docLink = document.createElement('div');\n",
              "          docLink.innerHTML = docLinkHtml;\n",
              "          element.appendChild(docLink);\n",
              "        }\n",
              "      </script>\n",
              "    </div>\n",
              "  </div>\n",
              "  "
            ]
          },
          "metadata": {},
          "execution_count": 17
        }
      ]
    },
    {
      "cell_type": "code",
      "source": [
        "df=data[['Transaction Summary','class']]\n",
        "df.head()"
      ],
      "metadata": {
        "colab": {
          "base_uri": "https://localhost:8080/",
          "height": 206
        },
        "id": "dNwXRXurUjMW",
        "outputId": "9f65e3b5-3590-4fa8-f626-0c579189edf4"
      },
      "execution_count": 18,
      "outputs": [
        {
          "output_type": "execute_result",
          "data": {
            "text/plain": [
              "                                 Transaction Summary           class\n",
              "0  upi-k rajesh-rajeshdpmindia@okicici-icic000000...  funds transfer\n",
              "1  neft dr-punb0668200-rohan-netbank, mum-n091211...  funds transfer\n",
              "2  upi-k rajesh-rajeshdpmindia@okicici-icic000000...  funds transfer\n",
              "3  upi-zomato-zomato-order@paytm-pytm0123456-1091...            food\n",
              "4  upi-mahendran k m-srimurugansupermarket1969@ok...  funds transfer"
            ],
            "text/html": [
              "\n",
              "  <div id=\"df-a8850790-9ce0-4022-8052-05247cdbb5f6\">\n",
              "    <div class=\"colab-df-container\">\n",
              "      <div>\n",
              "<style scoped>\n",
              "    .dataframe tbody tr th:only-of-type {\n",
              "        vertical-align: middle;\n",
              "    }\n",
              "\n",
              "    .dataframe tbody tr th {\n",
              "        vertical-align: top;\n",
              "    }\n",
              "\n",
              "    .dataframe thead th {\n",
              "        text-align: right;\n",
              "    }\n",
              "</style>\n",
              "<table border=\"1\" class=\"dataframe\">\n",
              "  <thead>\n",
              "    <tr style=\"text-align: right;\">\n",
              "      <th></th>\n",
              "      <th>Transaction Summary</th>\n",
              "      <th>class</th>\n",
              "    </tr>\n",
              "  </thead>\n",
              "  <tbody>\n",
              "    <tr>\n",
              "      <th>0</th>\n",
              "      <td>upi-k rajesh-rajeshdpmindia@okicici-icic000000...</td>\n",
              "      <td>funds transfer</td>\n",
              "    </tr>\n",
              "    <tr>\n",
              "      <th>1</th>\n",
              "      <td>neft dr-punb0668200-rohan-netbank, mum-n091211...</td>\n",
              "      <td>funds transfer</td>\n",
              "    </tr>\n",
              "    <tr>\n",
              "      <th>2</th>\n",
              "      <td>upi-k rajesh-rajeshdpmindia@okicici-icic000000...</td>\n",
              "      <td>funds transfer</td>\n",
              "    </tr>\n",
              "    <tr>\n",
              "      <th>3</th>\n",
              "      <td>upi-zomato-zomato-order@paytm-pytm0123456-1091...</td>\n",
              "      <td>food</td>\n",
              "    </tr>\n",
              "    <tr>\n",
              "      <th>4</th>\n",
              "      <td>upi-mahendran k m-srimurugansupermarket1969@ok...</td>\n",
              "      <td>funds transfer</td>\n",
              "    </tr>\n",
              "  </tbody>\n",
              "</table>\n",
              "</div>\n",
              "      <button class=\"colab-df-convert\" onclick=\"convertToInteractive('df-a8850790-9ce0-4022-8052-05247cdbb5f6')\"\n",
              "              title=\"Convert this dataframe to an interactive table.\"\n",
              "              style=\"display:none;\">\n",
              "        \n",
              "  <svg xmlns=\"http://www.w3.org/2000/svg\" height=\"24px\"viewBox=\"0 0 24 24\"\n",
              "       width=\"24px\">\n",
              "    <path d=\"M0 0h24v24H0V0z\" fill=\"none\"/>\n",
              "    <path d=\"M18.56 5.44l.94 2.06.94-2.06 2.06-.94-2.06-.94-.94-2.06-.94 2.06-2.06.94zm-11 1L8.5 8.5l.94-2.06 2.06-.94-2.06-.94L8.5 2.5l-.94 2.06-2.06.94zm10 10l.94 2.06.94-2.06 2.06-.94-2.06-.94-.94-2.06-.94 2.06-2.06.94z\"/><path d=\"M17.41 7.96l-1.37-1.37c-.4-.4-.92-.59-1.43-.59-.52 0-1.04.2-1.43.59L10.3 9.45l-7.72 7.72c-.78.78-.78 2.05 0 2.83L4 21.41c.39.39.9.59 1.41.59.51 0 1.02-.2 1.41-.59l7.78-7.78 2.81-2.81c.8-.78.8-2.07 0-2.86zM5.41 20L4 18.59l7.72-7.72 1.47 1.35L5.41 20z\"/>\n",
              "  </svg>\n",
              "      </button>\n",
              "      \n",
              "  <style>\n",
              "    .colab-df-container {\n",
              "      display:flex;\n",
              "      flex-wrap:wrap;\n",
              "      gap: 12px;\n",
              "    }\n",
              "\n",
              "    .colab-df-convert {\n",
              "      background-color: #E8F0FE;\n",
              "      border: none;\n",
              "      border-radius: 50%;\n",
              "      cursor: pointer;\n",
              "      display: none;\n",
              "      fill: #1967D2;\n",
              "      height: 32px;\n",
              "      padding: 0 0 0 0;\n",
              "      width: 32px;\n",
              "    }\n",
              "\n",
              "    .colab-df-convert:hover {\n",
              "      background-color: #E2EBFA;\n",
              "      box-shadow: 0px 1px 2px rgba(60, 64, 67, 0.3), 0px 1px 3px 1px rgba(60, 64, 67, 0.15);\n",
              "      fill: #174EA6;\n",
              "    }\n",
              "\n",
              "    [theme=dark] .colab-df-convert {\n",
              "      background-color: #3B4455;\n",
              "      fill: #D2E3FC;\n",
              "    }\n",
              "\n",
              "    [theme=dark] .colab-df-convert:hover {\n",
              "      background-color: #434B5C;\n",
              "      box-shadow: 0px 1px 3px 1px rgba(0, 0, 0, 0.15);\n",
              "      filter: drop-shadow(0px 1px 2px rgba(0, 0, 0, 0.3));\n",
              "      fill: #FFFFFF;\n",
              "    }\n",
              "  </style>\n",
              "\n",
              "      <script>\n",
              "        const buttonEl =\n",
              "          document.querySelector('#df-a8850790-9ce0-4022-8052-05247cdbb5f6 button.colab-df-convert');\n",
              "        buttonEl.style.display =\n",
              "          google.colab.kernel.accessAllowed ? 'block' : 'none';\n",
              "\n",
              "        async function convertToInteractive(key) {\n",
              "          const element = document.querySelector('#df-a8850790-9ce0-4022-8052-05247cdbb5f6');\n",
              "          const dataTable =\n",
              "            await google.colab.kernel.invokeFunction('convertToInteractive',\n",
              "                                                     [key], {});\n",
              "          if (!dataTable) return;\n",
              "\n",
              "          const docLinkHtml = 'Like what you see? Visit the ' +\n",
              "            '<a target=\"_blank\" href=https://colab.research.google.com/notebooks/data_table.ipynb>data table notebook</a>'\n",
              "            + ' to learn more about interactive tables.';\n",
              "          element.innerHTML = '';\n",
              "          dataTable['output_type'] = 'display_data';\n",
              "          await google.colab.output.renderOutput(dataTable, element);\n",
              "          const docLink = document.createElement('div');\n",
              "          docLink.innerHTML = docLinkHtml;\n",
              "          element.appendChild(docLink);\n",
              "        }\n",
              "      </script>\n",
              "    </div>\n",
              "  </div>\n",
              "  "
            ]
          },
          "metadata": {},
          "execution_count": 18
        }
      ]
    },
    {
      "cell_type": "code",
      "source": [
        "df[\"class\"] = df[\"class\"].astype('category')\n"
      ],
      "metadata": {
        "colab": {
          "base_uri": "https://localhost:8080/"
        },
        "id": "ysTBP0i0U4JN",
        "outputId": "9a0f9c0d-3a44-4af8-fc2a-00e240528ccf"
      },
      "execution_count": 19,
      "outputs": [
        {
          "output_type": "stream",
          "name": "stderr",
          "text": [
            "/usr/local/lib/python3.7/dist-packages/ipykernel_launcher.py:1: SettingWithCopyWarning: \n",
            "A value is trying to be set on a copy of a slice from a DataFrame.\n",
            "Try using .loc[row_indexer,col_indexer] = value instead\n",
            "\n",
            "See the caveats in the documentation: https://pandas.pydata.org/pandas-docs/stable/user_guide/indexing.html#returning-a-view-versus-a-copy\n",
            "  \"\"\"Entry point for launching an IPython kernel.\n"
          ]
        }
      ]
    },
    {
      "cell_type": "code",
      "source": [
        "df[\"category\"] = df[\"class\"].cat.codes\n",
        "\n"
      ],
      "metadata": {
        "colab": {
          "base_uri": "https://localhost:8080/"
        },
        "id": "r_Kd17k8U7DX",
        "outputId": "e85b9cdc-5275-4e4d-c7f0-5c709b2a9ad0"
      },
      "execution_count": 20,
      "outputs": [
        {
          "output_type": "stream",
          "name": "stderr",
          "text": [
            "/usr/local/lib/python3.7/dist-packages/ipykernel_launcher.py:1: SettingWithCopyWarning: \n",
            "A value is trying to be set on a copy of a slice from a DataFrame.\n",
            "Try using .loc[row_indexer,col_indexer] = value instead\n",
            "\n",
            "See the caveats in the documentation: https://pandas.pydata.org/pandas-docs/stable/user_guide/indexing.html#returning-a-view-versus-a-copy\n",
            "  \"\"\"Entry point for launching an IPython kernel.\n"
          ]
        }
      ]
    },
    {
      "cell_type": "code",
      "source": [
        " df['class'].unique()\n"
      ],
      "metadata": {
        "colab": {
          "base_uri": "https://localhost:8080/"
        },
        "id": "bV2HOABfU-Gp",
        "outputId": "2909c09c-df53-4d7a-8be2-9f9c6ca02693"
      },
      "execution_count": 21,
      "outputs": [
        {
          "output_type": "execute_result",
          "data": {
            "text/plain": [
              "['funds transfer', 'food', 'Credit', 'broker', NaN, 'shopping', 'cash withdrawal']\n",
              "Categories (6, object): ['Credit', 'broker', 'cash withdrawal', 'food', 'funds transfer',\n",
              "                         'shopping']"
            ]
          },
          "metadata": {},
          "execution_count": 21
        }
      ]
    },
    {
      "cell_type": "code",
      "source": [
        " df['category'].unique()\n"
      ],
      "metadata": {
        "colab": {
          "base_uri": "https://localhost:8080/"
        },
        "id": "G7Nglx-jWe8V",
        "outputId": "014171b0-7374-46cb-fbfd-8fa13996d3e2"
      },
      "execution_count": 22,
      "outputs": [
        {
          "output_type": "execute_result",
          "data": {
            "text/plain": [
              "array([ 4,  3,  0,  1, -1,  5,  2], dtype=int8)"
            ]
          },
          "metadata": {},
          "execution_count": 22
        }
      ]
    },
    {
      "cell_type": "code",
      "source": [],
      "metadata": {
        "id": "i2heOclEW_-V"
      },
      "execution_count": 22,
      "outputs": []
    },
    {
      "cell_type": "code",
      "source": [
        "df = df[df.category != -1]\n"
      ],
      "metadata": {
        "id": "ANYsEdDJVO1_"
      },
      "execution_count": 23,
      "outputs": []
    },
    {
      "cell_type": "code",
      "source": [
        "import seaborn as sns\n",
        "\n",
        "sns.set(rc = {'figure.figsize':(15,8)})\n",
        "sns.histplot(df['class'],bins='auto')"
      ],
      "metadata": {
        "colab": {
          "base_uri": "https://localhost:8080/",
          "height": 519
        },
        "id": "DQzl4ufOwA9v",
        "outputId": "54c1a90e-f443-4ea2-c0b4-291e2e9ca871"
      },
      "execution_count": 25,
      "outputs": [
        {
          "output_type": "execute_result",
          "data": {
            "text/plain": [
              "<matplotlib.axes._subplots.AxesSubplot at 0x7f4ac78f3710>"
            ]
          },
          "metadata": {},
          "execution_count": 25
        },
        {
          "output_type": "display_data",
          "data": {
            "text/plain": [
              "<Figure size 1080x576 with 1 Axes>"
            ],
            "image/png": "[encoded data removed]"
          },
          "metadata": {}
        }
      ]
    },
    {
      "cell_type": "markdown",
      "source": [
        "The plot shows the category and the count of UPI transaction."
      ],
      "metadata": {
        "id": "tUODCq6nwnrQ"
      }
    },
    {
      "cell_type": "code",
      "source": [
        "from sklearn.model_selection import train_test_split\n",
        "X_train, X_test, y_train, y_test = train_test_split(df['Transaction Summary'],df['category'], stratify=df['category'])\n",
        "print(y_train.head(4))\n",
        "print(X_train.head(4))"
      ],
      "metadata": {
        "colab": {
          "base_uri": "https://localhost:8080/"
        },
        "id": "W8azM1IpXB1U",
        "outputId": "82d781d7-381f-4097-bc15-ee893e281b0d"
      },
      "execution_count": 26,
      "outputs": [
        {
          "output_type": "stream",
          "name": "stdout",
          "text": [
            "64     3\n",
            "79     3\n",
            "77     3\n",
            "152    3\n",
            "Name: category, dtype: int8\n",
            "64     upi-zomato-zomato-order@paytm-pytm0123456-1116...\n",
            "79     upi-zomato-zomato-order@paytm-pytm0123456-1123...\n",
            "77     upi-razorpayzomato-zomatoindia@icici-icic00000...\n",
            "152    upi-zomato-zomato-order@paytm-pytm0123456-1152...\n",
            "Name: Transaction Summary, dtype: object\n"
          ]
        }
      ]
    },
    {
      "cell_type": "code",
      "source": [
        "import tensorflow as tf\n",
        "import tensorflow_hub as hub\n",
        "!pip install tensorflow-text\n",
        "import tensorflow_text as text"
      ],
      "metadata": {
        "colab": {
          "base_uri": "https://localhost:8080/"
        },
        "id": "Rq3ViLHKXWBW",
        "outputId": "4a2932be-8347-42bb-9662-63002d836a90"
      },
      "execution_count": 27,
      "outputs": [
        {
          "output_type": "stream",
          "name": "stdout",
          "text": [
            "Looking in indexes: https://pypi.org/simple, https://us-python.pkg.dev/colab-wheels/public/simple/\n",
            "Requirement already satisfied: tensorflow-text in /usr/local/lib/python3.7/dist-packages (2.10.0)\n",
            "Requirement already satisfied: tensorflow<2.11,>=2.10.0 in /usr/local/lib/python3.7/dist-packages (from tensorflow-text) (2.10.0)\n",
            "Requirement already satisfied: tensorflow-hub>=0.8.0 in /usr/local/lib/python3.7/dist-packages (from tensorflow-text) (0.12.0)\n",
            "Requirement already satisfied: setuptools in /usr/local/lib/python3.7/dist-packages (from tensorflow<2.11,>=2.10.0->tensorflow-text) (57.4.0)\n",
            "Requirement already satisfied: h5py>=2.9.0 in /usr/local/lib/python3.7/dist-packages (from tensorflow<2.11,>=2.10.0->tensorflow-text) (3.1.0)\n",
            "Requirement already satisfied: numpy>=1.20 in /usr/local/lib/python3.7/dist-packages (from tensorflow<2.11,>=2.10.0->tensorflow-text) (1.21.6)\n",
            "Requirement already satisfied: google-pasta>=0.1.1 in /usr/local/lib/python3.7/dist-packages (from tensorflow<2.11,>=2.10.0->tensorflow-text) (0.2.0)\n",
            "Requirement already satisfied: gast<=0.4.0,>=0.2.1 in /usr/local/lib/python3.7/dist-packages (from tensorflow<2.11,>=2.10.0->tensorflow-text) (0.4.0)\n",
            "Requirement already satisfied: wrapt>=1.11.0 in /usr/local/lib/python3.7/dist-packages (from tensorflow<2.11,>=2.10.0->tensorflow-text) (1.14.1)\n",
            "Requirement already satisfied: tensorboard<2.11,>=2.10 in /usr/local/lib/python3.7/dist-packages (from tensorflow<2.11,>=2.10.0->tensorflow-text) (2.10.0)\n",
            "Requirement already satisfied: opt-einsum>=2.3.2 in /usr/local/lib/python3.7/dist-packages (from tensorflow<2.11,>=2.10.0->tensorflow-text) (3.3.0)\n",
            "Requirement already satisfied: typing-extensions>=3.6.6 in /usr/local/lib/python3.7/dist-packages (from tensorflow<2.11,>=2.10.0->tensorflow-text) (4.1.1)\n",
            "Requirement already satisfied: libclang>=13.0.0 in /usr/local/lib/python3.7/dist-packages (from tensorflow<2.11,>=2.10.0->tensorflow-text) (14.0.6)\n",
            "Requirement already satisfied: flatbuffers>=2.0 in /usr/local/lib/python3.7/dist-packages (from tensorflow<2.11,>=2.10.0->tensorflow-text) (2.0.7)\n",
            "Requirement already satisfied: packaging in /usr/local/lib/python3.7/dist-packages (from tensorflow<2.11,>=2.10.0->tensorflow-text) (21.3)\n",
            "Requirement already satisfied: tensorflow-estimator<2.11,>=2.10.0 in /usr/local/lib/python3.7/dist-packages (from tensorflow<2.11,>=2.10.0->tensorflow-text) (2.10.0)\n",
            "Requirement already satisfied: tensorflow-io-gcs-filesystem>=0.23.1 in /usr/local/lib/python3.7/dist-packages (from tensorflow<2.11,>=2.10.0->tensorflow-text) (0.26.0)\n",
            "Requirement already satisfied: astunparse>=1.6.0 in /usr/local/lib/python3.7/dist-packages (from tensorflow<2.11,>=2.10.0->tensorflow-text) (1.6.3)\n",
            "Requirement already satisfied: keras<2.11,>=2.10.0 in /usr/local/lib/python3.7/dist-packages (from tensorflow<2.11,>=2.10.0->tensorflow-text) (2.10.0)\n",
            "Requirement already satisfied: absl-py>=1.0.0 in /usr/local/lib/python3.7/dist-packages (from tensorflow<2.11,>=2.10.0->tensorflow-text) (1.2.0)\n",
            "Requirement already satisfied: protobuf<3.20,>=3.9.2 in /usr/local/lib/python3.7/dist-packages (from tensorflow<2.11,>=2.10.0->tensorflow-text) (3.17.3)\n",
            "Requirement already satisfied: termcolor>=1.1.0 in /usr/local/lib/python3.7/dist-packages (from tensorflow<2.11,>=2.10.0->tensorflow-text) (1.1.0)\n",
            "Requirement already satisfied: keras-preprocessing>=1.1.1 in /usr/local/lib/python3.7/dist-packages (from tensorflow<2.11,>=2.10.0->tensorflow-text) (1.1.2)\n",
            "Requirement already satisfied: grpcio<2.0,>=1.24.3 in /usr/local/lib/python3.7/dist-packages (from tensorflow<2.11,>=2.10.0->tensorflow-text) (1.47.0)\n",
            "Requirement already satisfied: six>=1.12.0 in /usr/local/lib/python3.7/dist-packages (from tensorflow<2.11,>=2.10.0->tensorflow-text) (1.15.0)\n",
            "Requirement already satisfied: wheel<1.0,>=0.23.0 in /usr/local/lib/python3.7/dist-packages (from astunparse>=1.6.0->tensorflow<2.11,>=2.10.0->tensorflow-text) (0.37.1)\n",
            "Requirement already satisfied: cached-property in /usr/local/lib/python3.7/dist-packages (from h5py>=2.9.0->tensorflow<2.11,>=2.10.0->tensorflow-text) (1.5.2)\n",
            "Requirement already satisfied: markdown>=2.6.8 in /usr/local/lib/python3.7/dist-packages (from tensorboard<2.11,>=2.10->tensorflow<2.11,>=2.10.0->tensorflow-text) (3.4.1)\n",
            "Requirement already satisfied: tensorboard-plugin-wit>=1.6.0 in /usr/local/lib/python3.7/dist-packages (from tensorboard<2.11,>=2.10->tensorflow<2.11,>=2.10.0->tensorflow-text) (1.8.1)\n",
            "Requirement already satisfied: werkzeug>=1.0.1 in /usr/local/lib/python3.7/dist-packages (from tensorboard<2.11,>=2.10->tensorflow<2.11,>=2.10.0->tensorflow-text) (1.0.1)\n",
            "Requirement already satisfied: tensorboard-data-server<0.7.0,>=0.6.0 in /usr/local/lib/python3.7/dist-packages (from tensorboard<2.11,>=2.10->tensorflow<2.11,>=2.10.0->tensorflow-text) (0.6.1)\n",
            "Requirement already satisfied: requests<3,>=2.21.0 in /usr/local/lib/python3.7/dist-packages (from tensorboard<2.11,>=2.10->tensorflow<2.11,>=2.10.0->tensorflow-text) (2.23.0)\n",
            "Requirement already satisfied: google-auth<3,>=1.6.3 in /usr/local/lib/python3.7/dist-packages (from tensorboard<2.11,>=2.10->tensorflow<2.11,>=2.10.0->tensorflow-text) (1.35.0)\n",
            "Requirement already satisfied: google-auth-oauthlib<0.5,>=0.4.1 in /usr/local/lib/python3.7/dist-packages (from tensorboard<2.11,>=2.10->tensorflow<2.11,>=2.10.0->tensorflow-text) (0.4.6)\n",
            "Requirement already satisfied: cachetools<5.0,>=2.0.0 in /usr/local/lib/python3.7/dist-packages (from google-auth<3,>=1.6.3->tensorboard<2.11,>=2.10->tensorflow<2.11,>=2.10.0->tensorflow-text) (4.2.4)\n",
            "Requirement already satisfied: rsa<5,>=3.1.4 in /usr/local/lib/python3.7/dist-packages (from google-auth<3,>=1.6.3->tensorboard<2.11,>=2.10->tensorflow<2.11,>=2.10.0->tensorflow-text) (4.9)\n",
            "Requirement already satisfied: pyasn1-modules>=0.2.1 in /usr/local/lib/python3.7/dist-packages (from google-auth<3,>=1.6.3->tensorboard<2.11,>=2.10->tensorflow<2.11,>=2.10.0->tensorflow-text) (0.2.8)\n",
            "Requirement already satisfied: requests-oauthlib>=0.7.0 in /usr/local/lib/python3.7/dist-packages (from google-auth-oauthlib<0.5,>=0.4.1->tensorboard<2.11,>=2.10->tensorflow<2.11,>=2.10.0->tensorflow-text) (1.3.1)\n",
            "Requirement already satisfied: importlib-metadata>=4.4 in /usr/local/lib/python3.7/dist-packages (from markdown>=2.6.8->tensorboard<2.11,>=2.10->tensorflow<2.11,>=2.10.0->tensorflow-text) (4.12.0)\n",
            "Requirement already satisfied: zipp>=0.5 in /usr/local/lib/python3.7/dist-packages (from importlib-metadata>=4.4->markdown>=2.6.8->tensorboard<2.11,>=2.10->tensorflow<2.11,>=2.10.0->tensorflow-text) (3.8.1)\n",
            "Requirement already satisfied: pyasn1<0.5.0,>=0.4.6 in /usr/local/lib/python3.7/dist-packages (from pyasn1-modules>=0.2.1->google-auth<3,>=1.6.3->tensorboard<2.11,>=2.10->tensorflow<2.11,>=2.10.0->tensorflow-text) (0.4.8)\n",
            "Requirement already satisfied: idna<3,>=2.5 in /usr/local/lib/python3.7/dist-packages (from requests<3,>=2.21.0->tensorboard<2.11,>=2.10->tensorflow<2.11,>=2.10.0->tensorflow-text) (2.10)\n",
            "Requirement already satisfied: urllib3!=1.25.0,!=1.25.1,<1.26,>=1.21.1 in /usr/local/lib/python3.7/dist-packages (from requests<3,>=2.21.0->tensorboard<2.11,>=2.10->tensorflow<2.11,>=2.10.0->tensorflow-text) (1.24.3)\n",
            "Requirement already satisfied: certifi>=2017.4.17 in /usr/local/lib/python3.7/dist-packages (from requests<3,>=2.21.0->tensorboard<2.11,>=2.10->tensorflow<2.11,>=2.10.0->tensorflow-text) (2022.6.15)\n",
            "Requirement already satisfied: chardet<4,>=3.0.2 in /usr/local/lib/python3.7/dist-packages (from requests<3,>=2.21.0->tensorboard<2.11,>=2.10->tensorflow<2.11,>=2.10.0->tensorflow-text) (3.0.4)\n",
            "Requirement already satisfied: oauthlib>=3.0.0 in /usr/local/lib/python3.7/dist-packages (from requests-oauthlib>=0.7.0->google-auth-oauthlib<0.5,>=0.4.1->tensorboard<2.11,>=2.10->tensorflow<2.11,>=2.10.0->tensorflow-text) (3.2.0)\n",
            "Requirement already satisfied: pyparsing!=3.0.5,>=2.0.2 in /usr/local/lib/python3.7/dist-packages (from packaging->tensorflow<2.11,>=2.10.0->tensorflow-text) (3.0.9)\n"
          ]
        }
      ]
    },
    {
      "cell_type": "code",
      "source": [
        "bert_preprocess = hub.KerasLayer(\"https://tfhub.dev/tensorflow/bert_en_uncased_preprocess/3\")\n",
        "bert_encoder = hub.KerasLayer(\"https://tfhub.dev/tensorflow/bert_en_uncased_L-12_H-768_A-12/4\")"
      ],
      "metadata": {
        "id": "U_E1W11SXhqr"
      },
      "execution_count": null,
      "outputs": []
    },
    {
      "cell_type": "code",
      "source": [
        "# Bert layers\n",
        "text_input = tf.keras.layers.Input(shape=(), dtype=tf.string, name='text')\n",
        "preprocessed_text = bert_preprocess(text_input)\n",
        "outputs = bert_encoder(preprocessed_text)\n",
        "# Neural network layers\n",
        "l = tf.keras.layers.Dropout(0.1, name=\"dropout\")(outputs['pooled_output'])\n",
        "l = tf.keras.layers.Dense(1, activation='sigmoid', name=\"output\")(l)\n",
        "# Use inputs and outputs to construct a final model\n",
        "model = tf.keras.Model(inputs=[text_input], outputs = [l])"
      ],
      "metadata": {
        "id": "-Ivx4mBOXu-C"
      },
      "execution_count": 28,
      "outputs": []
    },
    {
      "cell_type": "code",
      "source": [
        "model.compile(optimizer='adam', loss='binary_crossentropy', metrics=['accuracy'])\n",
        "model.fit(X_train, y_train, epochs=10, batch_size = 32)"
      ],
      "metadata": {
        "colab": {
          "base_uri": "https://localhost:8080/"
        },
        "id": "HZtFgesFXyay",
        "outputId": "2cf3487d-6aa5-4449-c3aa-6449e0cb386d"
      },
      "execution_count": 29,
      "outputs": [
        {
          "output_type": "stream",
          "name": "stdout",
          "text": [
            "Epoch 1/10\n",
            "5/5 [==============================] - 112s 15s/step - loss: -1.5070 - accuracy: 0.0548\n",
            "Epoch 2/10\n",
            "5/5 [==============================] - 73s 14s/step - loss: -5.4933 - accuracy: 0.0479\n",
            "Epoch 3/10\n",
            "5/5 [==============================] - 69s 14s/step - loss: -9.1436 - accuracy: 0.0479\n",
            "Epoch 4/10\n",
            "5/5 [==============================] - 69s 14s/step - loss: -12.8213 - accuracy: 0.0479\n",
            "Epoch 5/10\n",
            "5/5 [==============================] - 69s 14s/step - loss: -16.4280 - accuracy: 0.0479\n",
            "Epoch 6/10\n",
            "5/5 [==============================] - 69s 13s/step - loss: -20.0213 - accuracy: 0.0479\n",
            "Epoch 7/10\n",
            "5/5 [==============================] - 70s 14s/step - loss: -23.7391 - accuracy: 0.0479\n",
            "Epoch 8/10\n",
            "5/5 [==============================] - 70s 14s/step - loss: -27.2771 - accuracy: 0.0479\n",
            "Epoch 9/10\n",
            "5/5 [==============================] - 69s 13s/step - loss: -30.9489 - accuracy: 0.0479\n",
            "Epoch 10/10\n",
            "5/5 [==============================] - 70s 14s/step - loss: -34.5270 - accuracy: 0.0479\n"
          ]
        },
        {
          "output_type": "execute_result",
          "data": {
            "text/plain": [
              "<keras.callbacks.History at 0x7f4ac4849b90>"
            ]
          },
          "metadata": {},
          "execution_count": 29
        }
      ]
    },
    {
      "cell_type": "code",
      "source": [
        "y_predicted = model.predict(X_test)\n",
        "y_predicted = y_predicted.flatten()\n",
        "print(y_predicted)"
      ],
      "metadata": {
        "id": "pxybhObbX9mb"
      },
      "execution_count": null,
      "outputs": []
    },
    {
      "cell_type": "markdown",
      "source": [
        "Accuracy of the bert model was not that satisfying so I tried with other ML models."
      ],
      "metadata": {
        "id": "GmmlnpxTvqF9"
      }
    },
    {
      "cell_type": "markdown",
      "source": [
        "Text Classification using Naive Bayes, Linear SVC and Random Forest"
      ],
      "metadata": {
        "id": "Ynfu1Y-fZiY8"
      }
    },
    {
      "cell_type": "code",
      "source": [
        "from sklearn.feature_extraction.text import TfidfTransformer\n",
        "from sklearn.naive_bayes import MultinomialNB\n",
        "from sklearn.feature_extraction.text import TfidfVectorizer\n",
        "from sklearn.naive_bayes import MultinomialNB\n",
        "from sklearn.linear_model import LogisticRegression\n",
        "from sklearn.ensemble import RandomForestClassifier\n",
        "from sklearn.svm import LinearSVC\n",
        "from sklearn.model_selection import cross_val_score\n",
        "from sklearn.metrics import confusion_matrix\n",
        "from sklearn import metrics\n",
        "import matplotlib.pyplot as plt\n",
        "import seaborn as sns\n"
      ],
      "metadata": {
        "id": "Bu6DRc42Z-Ab"
      },
      "execution_count": null,
      "outputs": []
    },
    {
      "cell_type": "code",
      "source": [
        "tfidf = TfidfVectorizer(sublinear_tf=True, min_df=5,\n",
        "                        ngram_range=(1, 2), \n",
        "                        stop_words='english')\n",
        "# We transform each complaint into a vector\n",
        "features = tfidf.fit_transform(df['Transaction Summary']).toarray()\n",
        "labels = df['category']\n",
        "print(\"Each of the %d transaction is represented by %d features (TF-IDF score of unigrams and bigrams)\" %(features.shape))"
      ],
      "metadata": {
        "id": "HiF9pJtCZhct"
      },
      "execution_count": null,
      "outputs": []
    },
    {
      "cell_type": "code",
      "source": [
        "models = [\n",
        "    RandomForestClassifier(n_estimators=100, max_depth=5, random_state=0),\n",
        "    LinearSVC(),\n",
        "    MultinomialNB(),\n",
        "]"
      ],
      "metadata": {
        "id": "1mlFGEt9akDo"
      },
      "execution_count": null,
      "outputs": []
    },
    {
      "cell_type": "code",
      "source": [
        "# 5 Cross-validation\n",
        "CV = 5\n",
        "cv_df = pd.DataFrame(index=range(CV * len(models)))"
      ],
      "metadata": {
        "id": "kxSsyin9bYp6"
      },
      "execution_count": null,
      "outputs": []
    },
    {
      "cell_type": "code",
      "source": [
        "entries = []\n",
        "for model in models:\n",
        "  model_name = model.__class__.__name__\n",
        "  accuracies = cross_val_score(model, features, labels, scoring='accuracy', cv=CV)\n",
        "  for fold_idx, accuracy in enumerate(accuracies):\n",
        "    entries.append((model_name, fold_idx, accuracy))\n",
        "cv_df = pd.DataFrame(entries, columns=['model_name', 'fold_idx', 'accuracy'])"
      ],
      "metadata": {
        "id": "AS91Dd2Pbc94"
      },
      "execution_count": null,
      "outputs": []
    },
    {
      "cell_type": "code",
      "source": [
        "mean_accuracy = cv_df.groupby('model_name').accuracy.mean()\n",
        "std_accuracy = cv_df.groupby('model_name').accuracy.std()\n",
        "\n",
        "acc = pd.concat([mean_accuracy, std_accuracy], axis= 1, \n",
        "          ignore_index=True)\n",
        "acc.columns = ['Mean Accuracy', 'Standard deviation']\n",
        "acc"
      ],
      "metadata": {
        "id": "ooDBgKJwbhv5"
      },
      "execution_count": null,
      "outputs": []
    },
    {
      "cell_type": "markdown",
      "source": [
        "Linear SVC has accuracy of 90%."
      ],
      "metadata": {
        "id": "UZ1L8JzPwyFo"
      }
    },
    {
      "cell_type": "code",
      "source": [
        "X_train, X_test, y_train, y_test,indices_train,indices_test = train_test_split(features, \n",
        "                                                               labels, \n",
        "                                                               df.index, test_size=0.25, \n",
        "                                                               random_state=1)\n",
        "model = LinearSVC()\n",
        "model.fit(X_train, y_train)\n",
        "y_pred = model.predict(X_test)"
      ],
      "metadata": {
        "id": "Xz_tmkjatrdT"
      },
      "execution_count": null,
      "outputs": []
    },
    {
      "cell_type": "code",
      "source": [
        "conf_mat = confusion_matrix(y_test, y_pred)\n",
        "fig, ax = plt.subplots(figsize=(8,8))\n",
        "sns.heatmap(conf_mat, annot=True, cmap=\"Blues\", fmt='d')\n",
        "plt.ylabel('Actual')\n",
        "plt.xlabel('Predicted')\n",
        "plt.title(\"CONFUSION MATRIX - LinearSVCn\", size=16);"
      ],
      "metadata": {
        "id": "Uiun9gmptNOx"
      },
      "execution_count": null,
      "outputs": []
    },
    {
      "cell_type": "code",
      "source": [],
      "metadata": {
        "id": "kNce5UNPu96L"
      },
      "execution_count": null,
      "outputs": []
    }
  ]
}